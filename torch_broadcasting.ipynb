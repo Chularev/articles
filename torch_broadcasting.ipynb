{
 "cells": [
  {
   "cell_type": "markdown",
   "metadata": {},
   "source": [
    "# Pytorch broadcasting"
   ]
  },
  {
   "cell_type": "code",
   "execution_count": 1,
   "metadata": {},
   "outputs": [],
   "source": [
    "import torch\n",
    "import math\n",
    "import numpy as np"
   ]
  },
  {
   "cell_type": "code",
   "execution_count": 2,
   "metadata": {},
   "outputs": [
    {
     "name": "stdout",
     "output_type": "stream",
     "text": [
      "Scalene extension successfully loaded. Note: Scalene currently only\n",
      "supports CPU+GPU profiling inside Jupyter notebooks. For full Scalene\n",
      "profiling, use the command line version.\n"
     ]
    }
   ],
   "source": [
    "# Load Scalene\n",
    "%load_ext scalene"
   ]
  },
  {
   "cell_type": "code",
   "execution_count": 3,
   "metadata": {},
   "outputs": [],
   "source": [
    "M1 = np.random.rand(1000,1000)"
   ]
  },
  {
   "cell_type": "code",
   "execution_count": 4,
   "metadata": {},
   "outputs": [],
   "source": [
    "M2 = np.random.rand(1000,1000)"
   ]
  },
  {
   "cell_type": "code",
   "execution_count": 5,
   "metadata": {},
   "outputs": [
    {
     "name": "stdout",
     "output_type": "stream",
     "text": [
      "Scalene: Program did not run for long enough to profile.\n"
     ]
    }
   ],
   "source": [
    "%%scalene --reduced-profile\n",
    "# Profile more than one line of code in a cell\\\n",
    "MR = M1 * M2\n",
    "MR += 3"
   ]
  },
  {
   "cell_type": "code",
   "execution_count": 6,
   "metadata": {},
   "outputs": [
    {
     "data": {
      "text/html": [
       "<pre style=\"white-space:pre;overflow-x:auto;line-height:normal;font-family:Menlo,'DejaVu Sans Mono',consolas,'Courier New',monospace\">usage: scalene <span style=\"font-weight: bold\">[</span>-h<span style=\"font-weight: bold\">]</span> <span style=\"font-weight: bold\">[</span>--version<span style=\"font-weight: bold\">]</span> <span style=\"font-weight: bold\">[</span>--outfile OUTFILE<span style=\"font-weight: bold\">]</span> <span style=\"font-weight: bold\">[</span>--html<span style=\"font-weight: bold\">]</span> <span style=\"font-weight: bold\">[</span>--json<span style=\"font-weight: bold\">]</span>\n",
       "               <span style=\"font-weight: bold\">[</span>--reduced-profile<span style=\"font-weight: bold\">]</span> <span style=\"font-weight: bold\">[</span>--profile-interval PROFILE_INTERVAL<span style=\"font-weight: bold\">]</span>\n",
       "               <span style=\"font-weight: bold\">[</span>--cpu-only<span style=\"font-weight: bold\">]</span> <span style=\"font-weight: bold\">[</span>--profile-all<span style=\"font-weight: bold\">]</span> <span style=\"font-weight: bold\">[</span>--profile-only PROFILE_ONLY<span style=\"font-weight: bold\">]</span>\n",
       "               <span style=\"font-weight: bold\">[</span>--use-virtual-time<span style=\"font-weight: bold\">]</span>\n",
       "               <span style=\"font-weight: bold\">[</span>--cpu-percent-threshold CPU_PERCENT_THRESHOLD<span style=\"font-weight: bold\">]</span>\n",
       "               <span style=\"font-weight: bold\">[</span>--cpu-sampling-rate CPU_SAMPLING_RATE<span style=\"font-weight: bold\">]</span>\n",
       "               <span style=\"font-weight: bold\">[</span>--malloc-threshold MALLOC_THRESHOLD<span style=\"font-weight: bold\">]</span>\n",
       "               <span style=\"font-weight: bold\">[</span>--program-path PROGRAM_PATH<span style=\"font-weight: bold\">]</span> <span style=\"font-weight: bold\">[</span>--on | --off<span style=\"font-weight: bold\">]</span>\n",
       "\n",
       "<span style=\"font-weight: bold\">Scalene</span>: a high-precision CPU and memory profiler, version <span style=\"color: #008080; text-decoration-color: #008080; font-weight: bold\">1.3</span>.<span style=\"color: #008080; text-decoration-color: #008080; font-weight: bold\">16</span>\n",
       "<a href=\"https://github.com/plasma-umass/scalene\"><span style=\"color: #0000ff; text-decoration-color: #0000ff; text-decoration: underline\">https://github.com/plasma-umass/scalene</span></a>\n",
       "\n",
       "command-line:\n",
       "  % <span style=\"font-weight: bold\">scalene [options] yourprogram.py</span>\n",
       "or\n",
       "  % <span style=\"font-weight: bold\">python3 -m scalene [options] yourprogram.py</span>\n",
       "\n",
       "in Jupyter, line mode:\n",
       "<span style=\"font-weight: bold\">  %scrun [options] statement</span>\n",
       "\n",
       "in Jupyter, cell mode:\n",
       "<span style=\"font-weight: bold\">  %%scalene [options]</span>\n",
       "<span style=\"font-weight: bold\">   your code here</span>\n",
       "\n",
       "\n",
       "optional arguments:\n",
       "  -h, --help            show this help message and exit\n",
       "  --version             prints the version number for this release of Scalene and exits\n",
       "  --outfile OUTFILE     file to hold profiler output <span style=\"font-weight: bold\">(</span>default: <span style=\"color: #000080; text-decoration-color: #000080\">stdout</span><span style=\"font-weight: bold\">)</span>\n",
       "  --html                output as HTML <span style=\"font-weight: bold\">(</span>default: <span style=\"color: #000080; text-decoration-color: #000080\">text</span><span style=\"font-weight: bold\">)</span>\n",
       "  --json                output as JSON <span style=\"font-weight: bold\">(</span>default: <span style=\"color: #000080; text-decoration-color: #000080\">text</span><span style=\"font-weight: bold\">)</span>\n",
       "  --reduced-profile     generate a reduced profile, with non-zero lines only <span style=\"font-weight: bold\">(</span>default: <span style=\"color: #000080; text-decoration-color: #000080; font-style: italic\">False</span><span style=\"font-weight: bold\">)</span>\n",
       "  --profile-interval PROFILE_INTERVAL\n",
       "                        output profiles every so many seconds <span style=\"font-weight: bold\">(</span>default: <span style=\"color: #000080; text-decoration-color: #000080\">inf</span><span style=\"font-weight: bold\">)</span>\n",
       "  --cpu-only            only profile CPU+GPU time <span style=\"font-weight: bold\">(</span>default: <span style=\"color: #000080; text-decoration-color: #000080\">profile CPU+GPU, memory, and </span>\n",
       "<span style=\"color: #000080; text-decoration-color: #000080\">copying</span><span style=\"font-weight: bold\">)</span>\n",
       "  --profile-all         profile all executed code, not just the target program <span style=\"font-weight: bold\">(</span>default: <span style=\"color: #000080; text-decoration-color: #000080\">only</span>\n",
       "<span style=\"color: #000080; text-decoration-color: #000080\">the target program</span><span style=\"font-weight: bold\">)</span>\n",
       "  --profile-only PROFILE_ONLY\n",
       "                        profile only code in filenames that contain the given strings, \n",
       "separated by commas <span style=\"font-weight: bold\">(</span>default: <span style=\"color: #000080; text-decoration-color: #000080\">no restrictions</span><span style=\"font-weight: bold\">)</span>\n",
       "  --use-virtual-time    measure only CPU time, not time spent in I/O or blocking <span style=\"font-weight: bold\">(</span>default: \n",
       "<span style=\"color: #000080; text-decoration-color: #000080; font-style: italic\">False</span><span style=\"font-weight: bold\">)</span>\n",
       "  --cpu-percent-threshold CPU_PERCENT_THRESHOLD\n",
       "                        only report profiles with at least this percent of CPU time <span style=\"font-weight: bold\">(</span>default:\n",
       "<span style=\"color: #000080; text-decoration-color: #000080; font-weight: bold\">1</span><span style=\"color: #000080; text-decoration-color: #000080\">%</span><span style=\"font-weight: bold\">)</span>\n",
       "  --cpu-sampling-rate CPU_SAMPLING_RATE\n",
       "                        CPU sampling rate <span style=\"font-weight: bold\">(</span>default: every <span style=\"color: #000080; text-decoration-color: #000080; font-weight: bold\">0.</span><span style=\"color: #000080; text-decoration-color: #000080\">01s</span><span style=\"font-weight: bold\">)</span>\n",
       "  --malloc-threshold MALLOC_THRESHOLD\n",
       "                        only report profiles with at least this many allocations <span style=\"font-weight: bold\">(</span>default: \n",
       "<span style=\"color: #000080; text-decoration-color: #000080; font-weight: bold\">100</span><span style=\"font-weight: bold\">)</span>\n",
       "  --program-path PROGRAM_PATH\n",
       "                        The directory containing the code to profile <span style=\"font-weight: bold\">(</span>default: <span style=\"color: #000080; text-decoration-color: #000080\">the path to </span>\n",
       "<span style=\"color: #000080; text-decoration-color: #000080\">the profiled program</span><span style=\"font-weight: bold\">)</span>\n",
       "  --on                  start with profiling on <span style=\"font-weight: bold\">(</span>default<span style=\"font-weight: bold\">)</span>\n",
       "  --off                 start with profiling off\n",
       "\n",
       "When running Scalene in the background, you can suspend/resume profiling\n",
       "for the process ID that Scalene reports. For example:\n",
       "\n",
       "   % python3 -m scalene  yourprogram.py &amp;\n",
       " Scalene now profiling process <span style=\"color: #008080; text-decoration-color: #008080; font-weight: bold\">12345</span>\n",
       "   to suspend profiling: python3 -m scalene.profile --off --pid <span style=\"color: #008080; text-decoration-color: #008080; font-weight: bold\">12345</span>\n",
       "   to resume profiling:  python3 -m scalene.profile --on  --pid <span style=\"color: #008080; text-decoration-color: #008080; font-weight: bold\">12345</span>\n",
       "\n",
       "</pre>\n"
      ],
      "text/plain": [
       "usage: scalene \u001b[1m[\u001b[0m-h\u001b[1m]\u001b[0m \u001b[1m[\u001b[0m--version\u001b[1m]\u001b[0m \u001b[1m[\u001b[0m--outfile OUTFILE\u001b[1m]\u001b[0m \u001b[1m[\u001b[0m--html\u001b[1m]\u001b[0m \u001b[1m[\u001b[0m--json\u001b[1m]\u001b[0m\n",
       "               \u001b[1m[\u001b[0m--reduced-profile\u001b[1m]\u001b[0m \u001b[1m[\u001b[0m--profile-interval PROFILE_INTERVAL\u001b[1m]\u001b[0m\n",
       "               \u001b[1m[\u001b[0m--cpu-only\u001b[1m]\u001b[0m \u001b[1m[\u001b[0m--profile-all\u001b[1m]\u001b[0m \u001b[1m[\u001b[0m--profile-only PROFILE_ONLY\u001b[1m]\u001b[0m\n",
       "               \u001b[1m[\u001b[0m--use-virtual-time\u001b[1m]\u001b[0m\n",
       "               \u001b[1m[\u001b[0m--cpu-percent-threshold CPU_PERCENT_THRESHOLD\u001b[1m]\u001b[0m\n",
       "               \u001b[1m[\u001b[0m--cpu-sampling-rate CPU_SAMPLING_RATE\u001b[1m]\u001b[0m\n",
       "               \u001b[1m[\u001b[0m--malloc-threshold MALLOC_THRESHOLD\u001b[1m]\u001b[0m\n",
       "               \u001b[1m[\u001b[0m--program-path PROGRAM_PATH\u001b[1m]\u001b[0m \u001b[1m[\u001b[0m--on | --off\u001b[1m]\u001b[0m\n",
       "\n",
       "\u001b[1mScalene\u001b[0m: a high-precision CPU and memory profiler, version \u001b[1;36m1.3\u001b[0m.\u001b[1;36m16\u001b[0m\n",
       "\u001b]8;id=751157;https://github.com/plasma-umass/scalene\u001b\\\u001b[4;94mhttps://github.com/plasma-umass/scalene\u001b[0m\u001b]8;;\u001b\\\n",
       "\n",
       "command-line:\n",
       "  % \u001b[1mscalene \u001b[0m\u001b[1m[\u001b[0m\u001b[1moptions\u001b[0m\u001b[1m]\u001b[0m\u001b[1m yourprogram.py\u001b[0m\n",
       "or\n",
       "  % \u001b[1mpython3 -m scalene \u001b[0m\u001b[1m[\u001b[0m\u001b[1moptions\u001b[0m\u001b[1m]\u001b[0m\u001b[1m yourprogram.py\u001b[0m\n",
       "\n",
       "in Jupyter, line mode:\n",
       "\u001b[1m  %scrun \u001b[0m\u001b[1m[\u001b[0m\u001b[1moptions\u001b[0m\u001b[1m]\u001b[0m\u001b[1m statement\u001b[0m\n",
       "\n",
       "in Jupyter, cell mode:\n",
       "\u001b[1m  %%scalene \u001b[0m\u001b[1m[\u001b[0m\u001b[1moptions\u001b[0m\u001b[1m]\u001b[0m\n",
       "\u001b[1m   your code here\u001b[0m\n",
       "\n",
       "\n",
       "optional arguments:\n",
       "  -h, --help            show this help message and exit\n",
       "  --version             prints the version number for this release of Scalene and exits\n",
       "  --outfile OUTFILE     file to hold profiler output \u001b[1m(\u001b[0mdefault: \u001b[34mstdout\u001b[0m\u001b[1m)\u001b[0m\n",
       "  --html                output as HTML \u001b[1m(\u001b[0mdefault: \u001b[34mtext\u001b[0m\u001b[1m)\u001b[0m\n",
       "  --json                output as JSON \u001b[1m(\u001b[0mdefault: \u001b[34mtext\u001b[0m\u001b[1m)\u001b[0m\n",
       "  --reduced-profile     generate a reduced profile, with non-zero lines only \u001b[1m(\u001b[0mdefault: \u001b[3;34mFalse\u001b[0m\u001b[1m)\u001b[0m\n",
       "  --profile-interval PROFILE_INTERVAL\n",
       "                        output profiles every so many seconds \u001b[1m(\u001b[0mdefault: \u001b[34minf\u001b[0m\u001b[1m)\u001b[0m\n",
       "  --cpu-only            only profile CPU+GPU time \u001b[1m(\u001b[0mdefault: \u001b[34mprofile CPU+GPU, memory, and \u001b[0m\n",
       "\u001b[34mcopying\u001b[0m\u001b[1m)\u001b[0m\n",
       "  --profile-all         profile all executed code, not just the target program \u001b[1m(\u001b[0mdefault: \u001b[34monly\u001b[0m\n",
       "\u001b[34mthe target program\u001b[0m\u001b[1m)\u001b[0m\n",
       "  --profile-only PROFILE_ONLY\n",
       "                        profile only code in filenames that contain the given strings, \n",
       "separated by commas \u001b[1m(\u001b[0mdefault: \u001b[34mno restrictions\u001b[0m\u001b[1m)\u001b[0m\n",
       "  --use-virtual-time    measure only CPU time, not time spent in I/O or blocking \u001b[1m(\u001b[0mdefault: \n",
       "\u001b[3;34mFalse\u001b[0m\u001b[1m)\u001b[0m\n",
       "  --cpu-percent-threshold CPU_PERCENT_THRESHOLD\n",
       "                        only report profiles with at least this percent of CPU time \u001b[1m(\u001b[0mdefault:\n",
       "\u001b[1;34m1\u001b[0m\u001b[34m%\u001b[0m\u001b[1m)\u001b[0m\n",
       "  --cpu-sampling-rate CPU_SAMPLING_RATE\n",
       "                        CPU sampling rate \u001b[1m(\u001b[0mdefault: every \u001b[1;34m0.\u001b[0m\u001b[34m01s\u001b[0m\u001b[1m)\u001b[0m\n",
       "  --malloc-threshold MALLOC_THRESHOLD\n",
       "                        only report profiles with at least this many allocations \u001b[1m(\u001b[0mdefault: \n",
       "\u001b[1;34m100\u001b[0m\u001b[1m)\u001b[0m\n",
       "  --program-path PROGRAM_PATH\n",
       "                        The directory containing the code to profile \u001b[1m(\u001b[0mdefault: \u001b[34mthe path to \u001b[0m\n",
       "\u001b[34mthe profiled program\u001b[0m\u001b[1m)\u001b[0m\n",
       "  --on                  start with profiling on \u001b[1m(\u001b[0mdefault\u001b[1m)\u001b[0m\n",
       "  --off                 start with profiling off\n",
       "\n",
       "When running Scalene in the background, you can suspend/resume profiling\n",
       "for the process ID that Scalene reports. For example:\n",
       "\n",
       "   % python3 -m scalene  yourprogram.py &\n",
       " Scalene now profiling process \u001b[1;36m12345\u001b[0m\n",
       "   to suspend profiling: python3 -m scalene.profile --off --pid \u001b[1;36m12345\u001b[0m\n",
       "   to resume profiling:  python3 -m scalene.profile --on  --pid \u001b[1;36m12345\u001b[0m\n",
       "\n"
      ]
     },
     "metadata": {},
     "output_type": "display_data"
    }
   ],
   "source": [
    "%scrun --help"
   ]
  },
  {
   "cell_type": "markdown",
   "metadata": {},
   "source": [
    "====================================="
   ]
  },
  {
   "cell_type": "code",
   "execution_count": 7,
   "metadata": {},
   "outputs": [],
   "source": [
    "def test_me1():\n",
    "    return np.array(np.random.uniform(0, 100, size=(10**8)))"
   ]
  },
  {
   "cell_type": "code",
   "execution_count": 8,
   "metadata": {},
   "outputs": [],
   "source": [
    "import numpy as np\n",
    "\n",
    "def test_me():\n",
    "    for i in range(6):\n",
    "        x = np.array(range(10**7))\n",
    "        y = test_me1()"
   ]
  },
  {
   "cell_type": "code",
   "execution_count": 9,
   "metadata": {},
   "outputs": [
    {
     "name": "stdout",
     "output_type": "stream",
     "text": [
      "\u001b[3m                                             [7]: % of time =  87.97% out of  10.89s.                                              \u001b[0m\n",
      "       ╷       ╷       ╷       ╷       ╷                                                                                           \n",
      " \u001b[1m \u001b[0m\u001b[1;2mLine\u001b[0m\u001b[1m \u001b[0m│\u001b[1;34mTime\u001b[0m\u001b[1m  \u001b[0m\u001b[1m \u001b[0m│\u001b[1;34m––––––\u001b[0m\u001b[1m \u001b[0m│\u001b[1;34m––––––\u001b[0m\u001b[1m \u001b[0m│\u001b[1;38;5;106m––––––\u001b[0m\u001b[1m \u001b[0m│\u001b[1m                                                                                         \u001b[0m\u001b[1m \u001b[0m \n",
      "       │\u001b[1;3;34mPython\u001b[0m\u001b[1m \u001b[0m│\u001b[1;3;34mnative\u001b[0m\u001b[1m \u001b[0m│\u001b[1;3;34msystem\u001b[0m\u001b[1m \u001b[0m│\u001b[1;3;38;5;106mGPU\u001b[0m\u001b[1m   \u001b[0m\u001b[1m \u001b[0m│\u001b[1m[7]                                                                                      \u001b[0m\u001b[1m \u001b[0m \n",
      "╺━━━━━━┿━━━━━━━┿━━━━━━━┿━━━━━━━┿━━━━━━━┿━━━━━━━━━━━━━━━━━━━━━━━━━━━━━━━━━━━━━━━━━━━━━━━━━━━━━━━━━━━━━━━━━━━━━━━━━━━━━━━━━━━━━━━━━━╸\n",
      " \u001b[2m \u001b[0m\u001b[2m ...\u001b[0m\u001b[2m \u001b[0m│\u001b[34m      \u001b[0m\u001b[34m \u001b[0m│\u001b[34m      \u001b[0m\u001b[34m \u001b[0m│\u001b[34m      \u001b[0m\u001b[34m \u001b[0m│\u001b[38;5;106m      \u001b[0m\u001b[38;5;106m \u001b[0m│                                                                                           \n",
      " \u001b[2m \u001b[0m\u001b[2m   2\u001b[0m\u001b[2m \u001b[0m│\u001b[34m      \u001b[0m\u001b[34m \u001b[0m│\u001b[1;31m   71%\u001b[0m\u001b[34m \u001b[0m│\u001b[34m  16% \u001b[0m\u001b[34m \u001b[0m│\u001b[1;31m 50%\u001b[0m\u001b[38;5;106m  \u001b[0m\u001b[38;5;106m \u001b[0m│\u001b[38;2;204;204;204;48;2;0;0;0m    \u001b[0m\u001b[38;2;205;205;0;48;2;0;0;0mreturn\u001b[0m\u001b[38;2;204;204;204;48;2;0;0;0m \u001b[0m\u001b[38;2;204;204;204;48;2;0;0;0mnp\u001b[0m\u001b[38;2;51;153;204;48;2;0;0;0m.\u001b[0m\u001b[38;2;204;204;204;48;2;0;0;0marray\u001b[0m\u001b[38;2;204;204;204;48;2;0;0;0m(\u001b[0m\u001b[38;2;204;204;204;48;2;0;0;0mnp\u001b[0m\u001b[38;2;51;153;204;48;2;0;0;0m.\u001b[0m\u001b[38;2;204;204;204;48;2;0;0;0mrandom\u001b[0m\u001b[38;2;51;153;204;48;2;0;0;0m.\u001b[0m\u001b[38;2;204;204;204;48;2;0;0;0muniform\u001b[0m\u001b[38;2;204;204;204;48;2;0;0;0m(\u001b[0m\u001b[38;2;205;0;205;48;2;0;0;0m0\u001b[0m\u001b[38;2;204;204;204;48;2;0;0;0m,\u001b[0m\u001b[38;2;204;204;204;48;2;0;0;0m \u001b[0m\u001b[38;2;205;0;205;48;2;0;0;0m100\u001b[0m\u001b[38;2;204;204;204;48;2;0;0;0m,\u001b[0m\u001b[38;2;204;204;204;48;2;0;0;0m \u001b[0m\u001b[38;2;204;204;204;48;2;0;0;0msize\u001b[0m\u001b[38;2;51;153;204;48;2;0;0;0m=\u001b[0m\u001b[38;2;204;204;204;48;2;0;0;0m(\u001b[0m\u001b[38;2;205;0;205;48;2;0;0;0m10\u001b[0m\u001b[38;2;51;153;204;48;2;0;0;0m*\u001b[0m\u001b[38;2;51;153;204;48;2;0;0;0m*\u001b[0m\u001b[38;2;205;0;205;48;2;0;0;0m8\u001b[0m\u001b[38;2;204;204;204;48;2;0;0;0m)\u001b[0m\u001b[38;2;204;204;204;48;2;0;0;0m)\u001b[0m\u001b[38;2;204;204;204;48;2;0;0;0m)\u001b[0m\u001b[48;2;0;0;0m                             \u001b[0m  \n",
      " \u001b[2m \u001b[0m\u001b[2m    \u001b[0m\u001b[2m \u001b[0m│\u001b[34m      \u001b[0m\u001b[34m \u001b[0m│\u001b[34m      \u001b[0m\u001b[34m \u001b[0m│\u001b[34m      \u001b[0m\u001b[34m \u001b[0m│\u001b[38;5;106m      \u001b[0m\u001b[38;5;106m \u001b[0m│                                                                                           \n",
      "╶──────┼───────┼───────┼───────┼───────┼──────────────────────────────────────────────────────────────────────────────────────────╴\n",
      " \u001b[2m \u001b[0m\u001b[2m    \u001b[0m\u001b[2m \u001b[0m│\u001b[34m      \u001b[0m\u001b[34m \u001b[0m│\u001b[34m      \u001b[0m\u001b[34m \u001b[0m│\u001b[34m      \u001b[0m\u001b[34m \u001b[0m│\u001b[38;5;106m      \u001b[0m\u001b[38;5;106m \u001b[0m│\u001b[1;3mfunction summary for <ipython-input-7-28ec8310ad1b>                                      \u001b[0m  \n",
      " \u001b[2m \u001b[0m\u001b[2m   1\u001b[0m\u001b[2m \u001b[0m│\u001b[34m      \u001b[0m\u001b[34m \u001b[0m│\u001b[1;31m   71%\u001b[0m\u001b[34m \u001b[0m│\u001b[34m  16% \u001b[0m\u001b[34m \u001b[0m│\u001b[1;31m 50%\u001b[0m\u001b[38;5;106m  \u001b[0m\u001b[38;5;106m \u001b[0m│\u001b[38;2;204;204;204;48;2;0;0;0mtest_me1\u001b[0m\u001b[48;2;0;0;0m                                                                                 \u001b[0m  \n",
      "       ╵       ╵       ╵       ╵       ╵                                                                                           \n",
      "\u001b[3m                                             [8]: % of time =   9.88% out of  10.89s.                                              \u001b[0m\n",
      "       ╷       ╷       ╷       ╷       ╷                                                                                           \n",
      " \u001b[1m \u001b[0m\u001b[1;2mLine\u001b[0m\u001b[1m \u001b[0m│\u001b[1;34mTime\u001b[0m\u001b[1m  \u001b[0m\u001b[1m \u001b[0m│\u001b[1;34m––––––\u001b[0m\u001b[1m \u001b[0m│\u001b[1;34m––––––\u001b[0m\u001b[1m \u001b[0m│\u001b[1;38;5;106m––––––\u001b[0m\u001b[1m \u001b[0m│\u001b[1m                                                                                         \u001b[0m\u001b[1m \u001b[0m \n",
      "       │\u001b[1;3;34mPython\u001b[0m\u001b[1m \u001b[0m│\u001b[1;3;34mnative\u001b[0m\u001b[1m \u001b[0m│\u001b[1;3;34msystem\u001b[0m\u001b[1m \u001b[0m│\u001b[1;3;38;5;106mGPU\u001b[0m\u001b[1m   \u001b[0m\u001b[1m \u001b[0m│\u001b[1m[8]                                                                                      \u001b[0m\u001b[1m \u001b[0m \n",
      "╺━━━━━━┿━━━━━━━┿━━━━━━━┿━━━━━━━┿━━━━━━━┿━━━━━━━━━━━━━━━━━━━━━━━━━━━━━━━━━━━━━━━━━━━━━━━━━━━━━━━━━━━━━━━━━━━━━━━━━━━━━━━━━━━━━━━━━━╸\n",
      " \u001b[2m \u001b[0m\u001b[2m ...\u001b[0m\u001b[2m \u001b[0m│\u001b[34m      \u001b[0m\u001b[34m \u001b[0m│\u001b[34m      \u001b[0m\u001b[34m \u001b[0m│\u001b[34m      \u001b[0m\u001b[34m \u001b[0m│\u001b[38;5;106m      \u001b[0m\u001b[38;5;106m \u001b[0m│                                                                                           \n",
      " \u001b[2m \u001b[0m\u001b[2m   5\u001b[0m\u001b[2m \u001b[0m│\u001b[34m      \u001b[0m\u001b[34m \u001b[0m│\u001b[1;31m    6%\u001b[0m\u001b[34m \u001b[0m│\u001b[34m   4% \u001b[0m\u001b[34m \u001b[0m│\u001b[1;31m 50%\u001b[0m\u001b[38;5;106m  \u001b[0m\u001b[38;5;106m \u001b[0m│\u001b[38;2;204;204;204;48;2;0;0;0m        \u001b[0m\u001b[38;2;204;204;204;48;2;0;0;0mx\u001b[0m\u001b[38;2;204;204;204;48;2;0;0;0m \u001b[0m\u001b[38;2;51;153;204;48;2;0;0;0m=\u001b[0m\u001b[38;2;204;204;204;48;2;0;0;0m \u001b[0m\u001b[38;2;204;204;204;48;2;0;0;0mnp\u001b[0m\u001b[38;2;51;153;204;48;2;0;0;0m.\u001b[0m\u001b[38;2;204;204;204;48;2;0;0;0marray\u001b[0m\u001b[38;2;204;204;204;48;2;0;0;0m(\u001b[0m\u001b[38;2;205;0;205;48;2;0;0;0mrange\u001b[0m\u001b[38;2;204;204;204;48;2;0;0;0m(\u001b[0m\u001b[38;2;205;0;205;48;2;0;0;0m10\u001b[0m\u001b[38;2;51;153;204;48;2;0;0;0m*\u001b[0m\u001b[38;2;51;153;204;48;2;0;0;0m*\u001b[0m\u001b[38;2;205;0;205;48;2;0;0;0m7\u001b[0m\u001b[38;2;204;204;204;48;2;0;0;0m)\u001b[0m\u001b[38;2;204;204;204;48;2;0;0;0m)\u001b[0m\u001b[48;2;0;0;0m                                                       \u001b[0m  \n",
      " \u001b[2m \u001b[0m\u001b[2m ...\u001b[0m\u001b[2m \u001b[0m│\u001b[34m      \u001b[0m\u001b[34m \u001b[0m│\u001b[34m      \u001b[0m\u001b[34m \u001b[0m│\u001b[34m      \u001b[0m\u001b[34m \u001b[0m│\u001b[38;5;106m      \u001b[0m\u001b[38;5;106m \u001b[0m│                                                                                           \n",
      " \u001b[2m \u001b[0m\u001b[2m    \u001b[0m\u001b[2m \u001b[0m│\u001b[34m      \u001b[0m\u001b[34m \u001b[0m│\u001b[34m      \u001b[0m\u001b[34m \u001b[0m│\u001b[34m      \u001b[0m\u001b[34m \u001b[0m│\u001b[38;5;106m      \u001b[0m\u001b[38;5;106m \u001b[0m│                                                                                           \n",
      "╶──────┼───────┼───────┼───────┼───────┼──────────────────────────────────────────────────────────────────────────────────────────╴\n",
      " \u001b[2m \u001b[0m\u001b[2m    \u001b[0m\u001b[2m \u001b[0m│\u001b[34m      \u001b[0m\u001b[34m \u001b[0m│\u001b[34m      \u001b[0m\u001b[34m \u001b[0m│\u001b[34m      \u001b[0m\u001b[34m \u001b[0m│\u001b[38;5;106m      \u001b[0m\u001b[38;5;106m \u001b[0m│\u001b[1;3mfunction summary for <ipython-input-8-498e16070695>                                      \u001b[0m  \n",
      " \u001b[2m \u001b[0m\u001b[2m   3\u001b[0m\u001b[2m \u001b[0m│\u001b[34m      \u001b[0m\u001b[34m \u001b[0m│\u001b[1;31m    6%\u001b[0m\u001b[34m \u001b[0m│\u001b[34m   4% \u001b[0m\u001b[34m \u001b[0m│\u001b[1;31m 50%\u001b[0m\u001b[38;5;106m  \u001b[0m\u001b[38;5;106m \u001b[0m│\u001b[38;2;204;204;204;48;2;0;0;0mtest_me\u001b[0m\u001b[48;2;0;0;0m                                                                                  \u001b[0m  \n",
      "       ╵       ╵       ╵       ╵       ╵                                                                                           \n"
     ]
    }
   ],
   "source": [
    "# Profile just one line of code\n",
    "%scrun --reduced-profile test_me()"
   ]
  },
  {
   "cell_type": "code",
   "execution_count": 20,
   "metadata": {},
   "outputs": [
    {
     "name": "stdout",
     "output_type": "stream",
     "text": [
      "\u001b[3m                                             [20]: % of time =  93.81% out of   0.09s.                                             \u001b[0m\n",
      "       ╷       ╷       ╷       ╷       ╷                                                                                           \n",
      " \u001b[1m \u001b[0m\u001b[1;2mLine\u001b[0m\u001b[1m \u001b[0m│\u001b[1;34mTime\u001b[0m\u001b[1m  \u001b[0m\u001b[1m \u001b[0m│\u001b[1;34m––––––\u001b[0m\u001b[1m \u001b[0m│\u001b[1;34m––––––\u001b[0m\u001b[1m \u001b[0m│\u001b[1;38;5;106m––––––\u001b[0m\u001b[1m \u001b[0m│\u001b[1m                                                                                         \u001b[0m\u001b[1m \u001b[0m \n",
      "       │\u001b[1;3;34mPython\u001b[0m\u001b[1m \u001b[0m│\u001b[1;3;34mnative\u001b[0m\u001b[1m \u001b[0m│\u001b[1;3;34msystem\u001b[0m\u001b[1m \u001b[0m│\u001b[1;3;38;5;106mGPU\u001b[0m\u001b[1m   \u001b[0m\u001b[1m \u001b[0m│\u001b[1m[20]                                                                                     \u001b[0m\u001b[1m \u001b[0m \n",
      "╺━━━━━━┿━━━━━━━┿━━━━━━━┿━━━━━━━┿━━━━━━━┿━━━━━━━━━━━━━━━━━━━━━━━━━━━━━━━━━━━━━━━━━━━━━━━━━━━━━━━━━━━━━━━━━━━━━━━━━━━━━━━━━━━━━━━━━━╸\n",
      " \u001b[2m \u001b[0m\u001b[2m ...\u001b[0m\u001b[2m \u001b[0m│\u001b[34m      \u001b[0m\u001b[34m \u001b[0m│\u001b[34m      \u001b[0m\u001b[34m \u001b[0m│\u001b[34m      \u001b[0m\u001b[34m \u001b[0m│\u001b[38;5;106m      \u001b[0m\u001b[38;5;106m \u001b[0m│                                                                                           \n",
      " \u001b[2m \u001b[0m\u001b[2m   5\u001b[0m\u001b[2m \u001b[0m│\u001b[1;31m   12%\u001b[0m\u001b[34m \u001b[0m│\u001b[34m      \u001b[0m\u001b[34m \u001b[0m│\u001b[34m      \u001b[0m\u001b[34m \u001b[0m│\u001b[1;31m 25%\u001b[0m\u001b[38;5;106m  \u001b[0m\u001b[38;5;106m \u001b[0m│\u001b[38;2;204;204;204;48;2;0;0;0m    \u001b[0m\u001b[38;2;205;205;0;48;2;0;0;0mfor\u001b[0m\u001b[38;2;204;204;204;48;2;0;0;0m \u001b[0m\u001b[38;2;204;204;204;48;2;0;0;0mj\u001b[0m\u001b[38;2;204;204;204;48;2;0;0;0m \u001b[0m\u001b[38;2;205;205;0;48;2;0;0;0min\u001b[0m\u001b[38;2;204;204;204;48;2;0;0;0m \u001b[0m\u001b[38;2;205;0;205;48;2;0;0;0mrange\u001b[0m\u001b[38;2;204;204;204;48;2;0;0;0m(\u001b[0m\u001b[38;2;205;0;205;48;2;0;0;0m1000\u001b[0m\u001b[38;2;204;204;204;48;2;0;0;0m)\u001b[0m\u001b[38;2;204;204;204;48;2;0;0;0m:\u001b[0m\u001b[48;2;0;0;0m                                                                \u001b[0m  \n",
      " \u001b[2m \u001b[0m\u001b[2m   6\u001b[0m\u001b[2m \u001b[0m│\u001b[1;31m   23%\u001b[0m\u001b[34m \u001b[0m│\u001b[1;31m   38%\u001b[0m\u001b[34m \u001b[0m│\u001b[34m  20% \u001b[0m\u001b[34m \u001b[0m│\u001b[1;31m 62%\u001b[0m\u001b[38;5;106m  \u001b[0m\u001b[38;5;106m \u001b[0m│\u001b[38;2;204;204;204;48;2;0;0;0m        \u001b[0m\u001b[38;2;204;204;204;48;2;0;0;0mx\u001b[0m\u001b[38;2;204;204;204;48;2;0;0;0m \u001b[0m\u001b[38;2;51;153;204;48;2;0;0;0m+\u001b[0m\u001b[38;2;51;153;204;48;2;0;0;0m=\u001b[0m\u001b[38;2;204;204;204;48;2;0;0;0m \u001b[0m\u001b[38;2;205;0;205;48;2;0;0;0m1\u001b[0m\u001b[48;2;0;0;0m                                                                           \u001b[0m  \n",
      "       ╵       ╵       ╵       ╵       ╵                                                                                           \n"
     ]
    }
   ],
   "source": [
    "%%scalene --reduced-profile\n",
    "# Profile more than one line of code in a cell\n",
    "x = 0\n",
    "for i in range(1000):\n",
    "    for j in range(1000):\n",
    "        x += 1"
   ]
  },
  {
   "cell_type": "code",
   "execution_count": null,
   "metadata": {},
   "outputs": [],
   "source": []
  }
 ],
 "metadata": {
  "kernelspec": {
   "display_name": "Python 3",
   "language": "python",
   "name": "python3"
  },
  "language_info": {
   "codemirror_mode": {
    "name": "ipython",
    "version": 3
   },
   "file_extension": ".py",
   "mimetype": "text/x-python",
   "name": "python",
   "nbconvert_exporter": "python",
   "pygments_lexer": "ipython3",
   "version": "3.8.10"
  }
 },
 "nbformat": 4,
 "nbformat_minor": 4
}
