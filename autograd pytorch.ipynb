{
 "cells": [
  {
   "cell_type": "code",
   "execution_count": 1,
   "metadata": {},
   "outputs": [],
   "source": [
    "import torch\n",
    "import torch.nn as nn\n",
    "import math"
   ]
  },
  {
   "cell_type": "markdown",
   "metadata": {},
   "source": [
    "# Сеть с множеством выходов "
   ]
  },
  {
   "cell_type": "markdown",
   "metadata": {},
   "source": [
    "Если сеть имеет множество выходов, то backward по их сумме эквивалентен backward-у по каждой из них "
   ]
  },
  {
   "cell_type": "markdown",
   "metadata": {},
   "source": [
    "## Пример "
   ]
  },
  {
   "cell_type": "code",
   "execution_count": 2,
   "metadata": {},
   "outputs": [],
   "source": [
    "criterion = nn.CrossEntropyLoss()"
   ]
  },
  {
   "cell_type": "code",
   "execution_count": 3,
   "metadata": {},
   "outputs": [],
   "source": [
    "def get_losses():\n",
    "    torch.manual_seed(89)\n",
    "    input = torch.linspace(0., 2. * math.pi, steps=25, requires_grad=True)\n",
    "\n",
    "    a1 = torch.sin(input)\n",
    "    b1 = a1 * a1\n",
    "    b2 = torch.tan(b1)\n",
    "    b3 = b2 + b2 * b2\n",
    "    b4 = torch.sin(b3)\n",
    "    loss1 = b4.sum()\n",
    "    \n",
    "    c = 2 * a1\n",
    "    d = c + 1 \n",
    "    d1 = torch.cos(d)\n",
    "    loss2 = d1.sum()\n",
    "    \n",
    "    e = torch.sin(d1)\n",
    "    loss3 = e.sum()\n",
    "    \n",
    "    return input, loss1, loss2, loss3"
   ]
  },
  {
   "cell_type": "markdown",
   "metadata": {},
   "source": [
    "### backward по каждому выходу"
   ]
  },
  {
   "cell_type": "code",
   "execution_count": 4,
   "metadata": {},
   "outputs": [],
   "source": [
    "input, loss1, loss2, loss3 = get_losses()"
   ]
  },
  {
   "cell_type": "code",
   "execution_count": 5,
   "metadata": {},
   "outputs": [],
   "source": [
    "loss1.backward(retain_graph=True)"
   ]
  },
  {
   "cell_type": "code",
   "execution_count": 6,
   "metadata": {},
   "outputs": [],
   "source": [
    "loss2.backward(retain_graph=True)"
   ]
  },
  {
   "cell_type": "code",
   "execution_count": 7,
   "metadata": {},
   "outputs": [],
   "source": [
    "loss3.backward()"
   ]
  },
  {
   "cell_type": "code",
   "execution_count": 8,
   "metadata": {},
   "outputs": [
    {
     "name": "stdout",
     "output_type": "stream",
     "text": [
      "tensor([-3.1262e+00, -3.2873e+00, -1.6929e+00,  1.7363e-01, -1.6902e+00,\n",
      "        -5.3823e+00,  8.4037e-07,  5.3823e+00,  1.6902e+00, -1.7363e-01,\n",
      "         1.6929e+00,  3.2873e+00,  3.1262e+00,  2.0312e+00,  1.3226e+00,\n",
      "         8.8789e-01, -2.2102e+00, -5.9737e+00,  2.6133e-07,  5.9737e+00,\n",
      "         2.2102e+00, -8.8790e-01, -1.3226e+00, -2.0312e+00, -3.1262e+00])\n"
     ]
    }
   ],
   "source": [
    "print(input.grad)"
   ]
  },
  {
   "cell_type": "markdown",
   "metadata": {},
   "source": [
    "### backward по сумме ошибок"
   ]
  },
  {
   "cell_type": "code",
   "execution_count": 9,
   "metadata": {},
   "outputs": [],
   "source": [
    "input, loss1, loss2, loss3 = get_losses()"
   ]
  },
  {
   "cell_type": "code",
   "execution_count": 10,
   "metadata": {},
   "outputs": [
    {
     "data": {
      "text/plain": [
       "tensor(6.8286, grad_fn=<SumBackward0>)"
      ]
     },
     "execution_count": 10,
     "metadata": {},
     "output_type": "execute_result"
    }
   ],
   "source": [
    "loss1"
   ]
  },
  {
   "cell_type": "code",
   "execution_count": 11,
   "metadata": {},
   "outputs": [
    {
     "name": "stdout",
     "output_type": "stream",
     "text": [
      "tensor([-3.1262e+00, -3.2873e+00, -1.6929e+00,  1.7363e-01, -1.6902e+00,\n",
      "        -5.3823e+00,  8.4037e-07,  5.3823e+00,  1.6902e+00, -1.7363e-01,\n",
      "         1.6929e+00,  3.2873e+00,  3.1262e+00,  2.0312e+00,  1.3226e+00,\n",
      "         8.8789e-01, -2.2102e+00, -5.9737e+00,  2.6133e-07,  5.9737e+00,\n",
      "         2.2102e+00, -8.8790e-01, -1.3226e+00, -2.0312e+00, -3.1262e+00])\n"
     ]
    }
   ],
   "source": [
    "loss = loss1+loss2+loss3\n",
    "loss.backward()\n",
    "print(input.grad)"
   ]
  },
  {
   "cell_type": "markdown",
   "metadata": {},
   "source": [
    "# ====================="
   ]
  },
  {
   "cell_type": "code",
   "execution_count": 12,
   "metadata": {},
   "outputs": [],
   "source": [
    "input, loss1, loss2, loss3 = get_losses()"
   ]
  },
  {
   "cell_type": "code",
   "execution_count": 13,
   "metadata": {},
   "outputs": [],
   "source": [
    "loss1 += loss2+loss3"
   ]
  },
  {
   "cell_type": "code",
   "execution_count": 14,
   "metadata": {},
   "outputs": [
    {
     "data": {
      "text/plain": [
       "tensor(13.4809, grad_fn=<AddBackward0>)"
      ]
     },
     "execution_count": 14,
     "metadata": {},
     "output_type": "execute_result"
    }
   ],
   "source": [
    "loss1"
   ]
  },
  {
   "cell_type": "code",
   "execution_count": 15,
   "metadata": {},
   "outputs": [
    {
     "name": "stdout",
     "output_type": "stream",
     "text": [
      "tensor([-3.1262e+00, -3.2873e+00, -1.6929e+00,  1.7363e-01, -1.6902e+00,\n",
      "        -5.3823e+00,  8.4037e-07,  5.3823e+00,  1.6902e+00, -1.7363e-01,\n",
      "         1.6929e+00,  3.2873e+00,  3.1262e+00,  2.0312e+00,  1.3226e+00,\n",
      "         8.8789e-01, -2.2102e+00, -5.9737e+00,  2.6133e-07,  5.9737e+00,\n",
      "         2.2102e+00, -8.8790e-01, -1.3226e+00, -2.0312e+00, -3.1262e+00])\n"
     ]
    }
   ],
   "source": [
    "loss1.backward()\n",
    "print(input.grad)"
   ]
  },
  {
   "cell_type": "code",
   "execution_count": null,
   "metadata": {},
   "outputs": [],
   "source": []
  }
 ],
 "metadata": {
  "kernelspec": {
   "display_name": "Python 3",
   "language": "python",
   "name": "python3"
  },
  "language_info": {
   "codemirror_mode": {
    "name": "ipython",
    "version": 3
   },
   "file_extension": ".py",
   "mimetype": "text/x-python",
   "name": "python",
   "nbconvert_exporter": "python",
   "pygments_lexer": "ipython3",
   "version": "3.8.10"
  },
  "toc": {
   "base_numbering": 1,
   "nav_menu": {},
   "number_sections": true,
   "sideBar": true,
   "skip_h1_title": true,
   "title_cell": "Содержание",
   "title_sidebar": "Contents",
   "toc_cell": true,
   "toc_position": {},
   "toc_section_display": true,
   "toc_window_display": false
  },
  "toc-autonumbering": true
 },
 "nbformat": 4,
 "nbformat_minor": 4
}
