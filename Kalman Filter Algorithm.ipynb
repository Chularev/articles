{
 "cells": [
  {
   "cell_type": "markdown",
   "id": "32fc86f3-48bc-4865-ac48-c7e64d4b0894",
   "metadata": {},
   "source": [
    "# <div align=\"center\"><h2>Фильтры калмана в компьютерном зрении</h2> <h3>пример поиска скрытой переменной (скорости) без доказательств <br/><br/> перевод с дополнениями <a href=\"https://thekalmanfilter.com/kalman-filter-explained-simply/#:~:text=The%20Kalman%20Filter%20uses%20the,is%20populated%20with%20differential%20equations.\">этой</a> статьи</h3></div>"
   ]
  },
  {
   "cell_type": "markdown",
   "id": "d16416c6-2c96-487b-8329-3c115d7dd378",
   "metadata": {},
   "source": [
    "## Введение"
   ]
  },
  {
   "cell_type": "markdown",
   "id": "3b00e496-7e0f-4c27-9b01-f8907ba9c710",
   "metadata": {},
   "source": [
    "Большинство учебных пособий по фильтру Калмана сложны для понимания, поскольку для понимания того, как работает фильтр Калмана, требуются продвинутые математические навыки. Если вы пытались прочитать статью <a href=\"http://www.cs.unc.edu/~welch/kalman/kalmanPaper.html\"> «1960 Kalman Filter paper» </a> Рудольфа Э. Кальмана 1960 года, вы знаете, насколько запутанной может быть эта концепция. Но нужно ли вам понимать, как работает фильтр Калмана, чтобы его использовать?"
   ]
  },
  {
   "cell_type": "markdown",
   "id": "3466ea9b-1be4-48f4-9d13-28fe1cbf85f6",
   "metadata": {},
   "source": [
    "Нет. Если вы не хотите проектировать и реализовывать фильтр Калмана, вам не нужно знать вывод всех формул, вам просто нужно понять как он работает и применяеть его на практике."
   ]
  },
  {
   "cell_type": "markdown",
   "id": "fd96c112-402b-4130-8c92-6271b801cb52",
   "metadata": {},
   "source": [
    "На самом деле каждый может понять фильтр Калмана, если его объяснить небольшими удобоваримыми частями. В этом посте просто объясняется фильтр Калмана и то, как он работает для оценки состояния системы."
   ]
  },
  {
   "cell_type": "markdown",
   "id": "5b7a7145-f6ec-4441-b215-38c1dcbc16c3",
   "metadata": {},
   "source": [
    "## Обзор фильтра Калмана"
   ]
  },
  {
   "cell_type": "markdown",
   "id": "376cbc69-909e-4758-bff9-e7c11ef645fb",
   "metadata": {},
   "source": [
    "Давайте посмотрим на фильтр Калмана как на черный ящик. Фильтр Калмана имеет входы и выходы. Входные данные зашумлены и иногда дают неточные измерения. Результаты его представляют собой менее зашумленные и иногда более точные оценки. Оценками могут быть параметры состояния системы, которые не измерялись и не наблюдались. Последнее предложение описывает суперсилу фильтра Калмана. Фильтр Калмана оценивает параметры системы, которые не наблюдаются и не измеряются."
   ]
  },
  {
   "cell_type": "markdown",
   "id": "b96ca491-547d-467e-84a6-7c1ac066243e",
   "metadata": {},
   "source": [
    "Короче говоря, вы можете думать о фильтре Калмана как об алгоритме, который может оценивать наблюдаемые и ненаблюдаемые параметры с большой точностью в режиме реального времени. Оценки с высокой точностью используются для прогнозов и решений. По этим причинам фильтры Калмана используются в робототехнике и системах реального времени, которым необходима надежная информация."
   ]
  },
  {
   "cell_type": "markdown",
   "id": "74569e09-ed70-4aae-b523-6f0e38d487ef",
   "metadata": {},
   "source": [
    "Проще говоря, фильтр Калмана — это универсальный алгоритм, который используется для оценки параметров системы. Он может использовать неточные или зашумленные измерения для более точной оценки переменной или находить значения вообще не наблюдаемой переменной."
   ]
  },
  {
   "cell_type": "markdown",
   "id": "c45e6606-58ac-483e-9a63-8c7b8c28254b",
   "metadata": {},
   "source": [
    "Реальную популярность фильтр Калмана обрел не благодаря способности сглаживать измерения, а благодаря своей способности оценивать параметры системы, которые невозможно измерить или наблюдать."
   ]
  },
  {
   "cell_type": "markdown",
   "id": "5560be05-bdf4-43f1-8e9c-a995dce7816d",
   "metadata": {},
   "source": [
    "## Описание алгоритма "
   ]
  },
  {
   "cell_type": "markdown",
   "id": "19a16039-5048-42bc-99d5-d4fd2482c724",
   "metadata": {},
   "source": [
    "хорошо описан <a href=\"https://habr.com/ru/articles/594249/\">тут</a>"
   ]
  },
  {
   "cell_type": "markdown",
   "id": "c649d1c1-aa00-457b-b373-9ad7ed566a33",
   "metadata": {},
   "source": [
    "### Подключение библиотек"
   ]
  },
  {
   "cell_type": "code",
   "execution_count": 1,
   "id": "9a1b2ee9-54aa-4581-8e09-7666d615b65a",
   "metadata": {},
   "outputs": [],
   "source": [
    "import numpy as np\n",
    "import cv2\n",
    "import matplotlib.pyplot as plt\n",
    "import numpy as np\n",
    "import random"
   ]
  },
  {
   "cell_type": "markdown",
   "id": "bd2d6650-e866-4951-9c48-cb25571207fa",
   "metadata": {},
   "source": [
    "### Постановка задачи"
   ]
  },
  {
   "cell_type": "markdown",
   "id": "c5ba0033-ed57-49db-a8a9-eb12e704f17c",
   "metadata": {},
   "source": [
    "Допустим у нас есть робот с датчиком на голове. Датчик возвращает кординаты Х и У через равные промежутки времени. Показания дата не точны и имеют дисперсию ss. Робот движется с постоянной не известной нам скоростью. На его координаты также влияют внешние факторы, его колеса  могут проскальзывать или застревать в грязи. Смоделируем это как шум с дисперсией ms. Задача найти скоростью с помощью фильтра Калмана. "
   ]
  },
  {
   "cell_type": "markdown",
   "id": "bd370d08-5872-445d-8c82-5db8af679698",
   "metadata": {},
   "source": [
    "### Класс робот"
   ]
  },
  {
   "cell_type": "code",
   "execution_count": 2,
   "id": "dd984594-5c11-49b0-8454-5be828f0bbeb",
   "metadata": {},
   "outputs": [],
   "source": [
    "class Robot:\n",
    "    def __init__(self, ss, ms):\n",
    "        self.ss = ss\n",
    "        self.ms = ms\n",
    "        self.vx = random.randint(1, 10)\n",
    "        self.vy = random.randint(1, 10)\n",
    "        self.x = random.randint(0, 10)\n",
    "        self.y = random.randint(0, 10)\n",
    "\n",
    "    def sn(self):\n",
    "        return np.random.normal(0, self.ms, 1)[0]\n",
    "\n",
    "        \n",
    "    def move(self):\n",
    "        self.x = self.vx + self.x + self.sn()\n",
    "        self.y = self.vy + self.y + self.sn()\n",
    "\n",
    "    "
   ]
  },
  {
   "cell_type": "code",
   "execution_count": 3,
   "id": "f551dd48-4180-45dc-a5a3-f3c54049bf14",
   "metadata": {},
   "outputs": [],
   "source": [
    "r = Robot(0.5,0.3); r.x; "
   ]
  },
  {
   "cell_type": "code",
   "execution_count": 4,
   "id": "99a22e94-5a13-47ba-bf4d-2b5e2dfafc83",
   "metadata": {},
   "outputs": [
    {
     "data": {
      "text/plain": [
       "0"
      ]
     },
     "execution_count": 4,
     "metadata": {},
     "output_type": "execute_result"
    }
   ],
   "source": [
    "r.x"
   ]
  },
  {
   "cell_type": "code",
   "execution_count": 5,
   "id": "d97c45fe-1138-48a2-bfaa-7e1a008e8e20",
   "metadata": {},
   "outputs": [
    {
     "data": {
      "text/plain": [
       "2"
      ]
     },
     "execution_count": 5,
     "metadata": {},
     "output_type": "execute_result"
    }
   ],
   "source": [
    "r.vx"
   ]
  },
  {
   "cell_type": "code",
   "execution_count": 6,
   "id": "2cba2323-22cb-4ad9-8554-e88799f1d852",
   "metadata": {},
   "outputs": [],
   "source": [
    "r.move()"
   ]
  },
  {
   "cell_type": "code",
   "execution_count": 7,
   "id": "b4c866c5-f179-474e-a9a5-44dc4c2b8195",
   "metadata": {},
   "outputs": [
    {
     "data": {
      "text/plain": [
       "2.130969525159137"
      ]
     },
     "execution_count": 7,
     "metadata": {},
     "output_type": "execute_result"
    }
   ],
   "source": [
    "r.x"
   ]
  },
  {
   "cell_type": "code",
   "execution_count": null,
   "id": "6563ef33-adb2-453a-82b2-acd61a7b0d52",
   "metadata": {},
   "outputs": [],
   "source": []
  }
 ],
 "metadata": {
  "kernelspec": {
   "display_name": "Python 3 (ipykernel)",
   "language": "python",
   "name": "python3"
  },
  "language_info": {
   "codemirror_mode": {
    "name": "ipython",
    "version": 3
   },
   "file_extension": ".py",
   "mimetype": "text/x-python",
   "name": "python",
   "nbconvert_exporter": "python",
   "pygments_lexer": "ipython3",
   "version": "3.10.12"
  }
 },
 "nbformat": 4,
 "nbformat_minor": 5
}
