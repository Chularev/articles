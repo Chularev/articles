{
 "cells": [
  {
   "cell_type": "markdown",
   "id": "32fc86f3-48bc-4865-ac48-c7e64d4b0894",
   "metadata": {},
   "source": [
    "# Фильтры калмана на примерах"
   ]
  },
  {
   "cell_type": "markdown",
   "id": "6fdd1147-e35c-4a32-b3e8-9165f9529e13",
   "metadata": {},
   "source": [
    "## Одномерный случай"
   ]
  },
  {
   "cell_type": "markdown",
   "id": "539674ec-e4e2-4cf6-a62d-59d67d27b00b",
   "metadata": {},
   "source": [
    "### Постановка задачи"
   ]
  },
  {
   "cell_type": "markdown",
   "id": "546bd282-6770-49de-91ee-be7afad9cf59",
   "metadata": {},
   "source": [
    "Допустим у нас есть человек, стоящий на месте и желающий определить свое место положения. В текущий момент времени ему доступны два источника GPS и ГЛАНАС. Эти источники не точны и присылают координату с некоторой погрешностью n1 для GPS и n2 для ГЛАНАС соответственно. Из технической документации нам известно, что источник GPS в среднем имеет ошику $\\sigma_1$, а источник ГЛАНАС $\\sigma_2$. Причём эти ошибки имеют нормальное распределение с нулевым математическим ожиданием, то есть они в среднем дают правильный ответ. Задача: используя эти два наблюдения найти более точную оценку координаты X."
   ]
  },
  {
   "cell_type": "markdown",
   "id": "1fd9f6cb-d2b4-4b41-9b2d-4aa7e65e0982",
   "metadata": {},
   "source": [
    "Итак, опишем задачу более формально. Координату, полученную от GPS обозначим как $z_1$, она представляет собой истинное значение координаты $x$ плюс некоторая случайная величина (шум) $n_1$ с диспепсией $\\sigma_1^2$ и нулевым математическим ожиданием"
   ]
  },
  {
   "cell_type": "markdown",
   "id": "b707a3db-93ba-47e6-91da-49eb0d69187f",
   "metadata": {},
   "source": [
    "$z_1=x+n_1$ $n_1\\sim N(0,\\sigma_1^2)$"
   ]
  },
  {
   "cell_type": "markdown",
   "id": "059b38ee-1f6f-483c-8fae-03b1f8e745e2",
   "metadata": {},
   "source": [
    "Аналогично для второго есть источника"
   ]
  },
  {
   "cell_type": "markdown",
   "id": "0cd44841-b921-4b20-814f-3e86b4576fb8",
   "metadata": {},
   "source": [
    "$z_2=x+n_2$ $n_2\\sim N(0,\\sigma_2^2)$"
   ]
  },
  {
   "cell_type": "markdown",
   "id": "abfc157a-5655-4a42-acd4-9a0355aede78",
   "metadata": {},
   "source": [
    "![two_sourcre](images/kalman_filter_algorithm/image001.png)"
   ]
  },
  {
   "cell_type": "markdown",
   "id": "4f21a478-4b81-473f-b7d2-6449bd24ca60",
   "metadata": {},
   "source": [
    "Задача: построить алгоритм объединяющий эти два наблюдения и дающий более точную оценку координаты X"
   ]
  },
  {
   "cell_type": "markdown",
   "id": "cd731761-489a-49c7-bf95-1c696483cdbe",
   "metadata": {},
   "source": [
    "### Основная идея"
   ]
  },
  {
   "cell_type": "markdown",
   "id": "81fdf82c-9ad4-44ef-9871-ce4053b3ea69",
   "metadata": {},
   "source": [
    "Давай  порассуждаем. Мы не знаем точного значения координаты Х, он точно знаем что она, с одной стороны, лежит в диапазоне $[z_1-\\sigma_1, z_1+\\sigma_1]$, с другой стороны ее диапазон равен $[z_2-\\sigma_2,z_2+\\sigma_2]$. Причём, наиболее вероятным значением X, с точки зрения первого источника является $z_1$, а с точки зрения второго источника $z_2$. Хотелось бы построить алгоритм, принимающий два этих диапазона и учитывающий, что наиболее вероятными значениями является или $z_1$, или $z_2$. Как построить такой алгоритм ?"
   ]
  },
  {
   "cell_type": "code",
   "execution_count": null,
   "id": "3a6f9abc-06bb-4a8a-a885-191c29d535d2",
   "metadata": {},
   "outputs": [],
   "source": []
  },
  {
   "cell_type": "code",
   "execution_count": null,
   "id": "0be33d42-c15e-494b-b773-d70d44d793e6",
   "metadata": {},
   "outputs": [],
   "source": []
  },
  {
   "cell_type": "code",
   "execution_count": null,
   "id": "23991894-7750-4c21-aca3-747f597dae41",
   "metadata": {},
   "outputs": [],
   "source": []
  },
  {
   "cell_type": "markdown",
   "id": "5b7a7145-f6ec-4441-b215-38c1dcbc16c3",
   "metadata": {},
   "source": [
    "## Обзор фильтра Калмана"
   ]
  },
  {
   "cell_type": "markdown",
   "id": "376cbc69-909e-4758-bff9-e7c11ef645fb",
   "metadata": {},
   "source": [
    "Давайте посмотрим на фильтр Калмана как на черный ящик. Фильтр Калмана имеет входы и выходы. Входные данные зашумлены и иногда дают неточные измерения. Результаты его представляют собой менее зашумленные и иногда более точные оценки. Оценками могут быть параметры состояния системы, которые не измерялись и не наблюдались. Последнее предложение описывает суперсилу фильтра Калмана. Фильтр Калмана оценивает параметры системы, которые не наблюдаются и не измеряются."
   ]
  },
  {
   "cell_type": "markdown",
   "id": "b96ca491-547d-467e-84a6-7c1ac066243e",
   "metadata": {},
   "source": [
    "Короче говоря, вы можете думать о фильтре Калмана как об алгоритме, который может оценивать наблюдаемые и ненаблюдаемые параметры с большой точностью в режиме реального времени. Оценки с высокой точностью используются для прогнозов и решений. По этим причинам фильтры Калмана используются в робототехнике и системах реального времени, которым необходима надежная информация."
   ]
  },
  {
   "cell_type": "markdown",
   "id": "74569e09-ed70-4aae-b523-6f0e38d487ef",
   "metadata": {},
   "source": [
    "Проще говоря, фильтр Калмана — это универсальный алгоритм, который используется для оценки параметров системы. Он может использовать неточные или зашумленные измерения для более точной оценки переменной или находить значения вообще не наблюдаемой переменной."
   ]
  },
  {
   "cell_type": "markdown",
   "id": "c45e6606-58ac-483e-9a63-8c7b8c28254b",
   "metadata": {},
   "source": [
    "Реальную популярность фильтр Калмана обрел не благодаря способности сглаживать измерения, а благодаря своей способности оценивать параметры системы, которые невозможно измерить или наблюдать."
   ]
  },
  {
   "cell_type": "markdown",
   "id": "5560be05-bdf4-43f1-8e9c-a995dce7816d",
   "metadata": {},
   "source": [
    "## Описание алгоритма "
   ]
  },
  {
   "cell_type": "markdown",
   "id": "19a16039-5048-42bc-99d5-d4fd2482c724",
   "metadata": {},
   "source": [
    "хорошо описан <a href=\"https://habr.com/ru/articles/594249/\">тут</a>"
   ]
  },
  {
   "cell_type": "markdown",
   "id": "c649d1c1-aa00-457b-b373-9ad7ed566a33",
   "metadata": {},
   "source": [
    "### Подключение библиотек"
   ]
  },
  {
   "cell_type": "code",
   "execution_count": 1,
   "id": "9a1b2ee9-54aa-4581-8e09-7666d615b65a",
   "metadata": {},
   "outputs": [],
   "source": [
    "import numpy as np\n",
    "import cv2\n",
    "import matplotlib.pyplot as plt\n",
    "import numpy as np\n",
    "import random"
   ]
  },
  {
   "cell_type": "markdown",
   "id": "bd2d6650-e866-4951-9c48-cb25571207fa",
   "metadata": {},
   "source": [
    "### Постановка задачи"
   ]
  },
  {
   "cell_type": "markdown",
   "id": "c5ba0033-ed57-49db-a8a9-eb12e704f17c",
   "metadata": {},
   "source": [
    "Допустим у нас есть робот с датчиком на голове. Датчик возвращает кординаты Х и У через равные промежутки времени. Показания дата не точны и имеют дисперсию ss. Робот движется с постоянной не известной нам скоростью. На его координаты также влияют внешние факторы, его колеса  могут проскальзывать или застревать в грязи. Смоделируем это как шум с дисперсией ms. Задача найти скоростью с помощью фильтра Калмана. "
   ]
  },
  {
   "cell_type": "markdown",
   "id": "bd370d08-5872-445d-8c82-5db8af679698",
   "metadata": {},
   "source": [
    "### Класс робот"
   ]
  },
  {
   "cell_type": "code",
   "execution_count": 2,
   "id": "dd984594-5c11-49b0-8454-5be828f0bbeb",
   "metadata": {},
   "outputs": [],
   "source": [
    "class Robot:\n",
    "    def __init__(self, ss, ms):\n",
    "        self.ss = ss\n",
    "        self.ms = ms\n",
    "        self.vx = random.randint(1, 10)\n",
    "        self.vy = random.randint(1, 10)\n",
    "        self.x = random.randint(0, 10)\n",
    "        self.y = random.randint(0, 10)\n",
    "\n",
    "    def sn(self):\n",
    "        return np.random.normal(0, self.ms, 1)[0]\n",
    "\n",
    "        \n",
    "    def move(self):\n",
    "        self.x = self.vx + self.x + self.sn()\n",
    "        self.y = self.vy + self.y + self.sn()\n",
    "\n",
    "    "
   ]
  },
  {
   "cell_type": "code",
   "execution_count": 3,
   "id": "f551dd48-4180-45dc-a5a3-f3c54049bf14",
   "metadata": {},
   "outputs": [],
   "source": [
    "r = Robot(0.5,0.3); r.x; "
   ]
  },
  {
   "cell_type": "code",
   "execution_count": 4,
   "id": "99a22e94-5a13-47ba-bf4d-2b5e2dfafc83",
   "metadata": {},
   "outputs": [
    {
     "data": {
      "text/plain": [
       "10"
      ]
     },
     "execution_count": 4,
     "metadata": {},
     "output_type": "execute_result"
    }
   ],
   "source": [
    "r.x"
   ]
  },
  {
   "cell_type": "code",
   "execution_count": 5,
   "id": "d97c45fe-1138-48a2-bfaa-7e1a008e8e20",
   "metadata": {},
   "outputs": [
    {
     "data": {
      "text/plain": [
       "6"
      ]
     },
     "execution_count": 5,
     "metadata": {},
     "output_type": "execute_result"
    }
   ],
   "source": [
    "r.vx"
   ]
  },
  {
   "cell_type": "code",
   "execution_count": 6,
   "id": "2cba2323-22cb-4ad9-8554-e88799f1d852",
   "metadata": {},
   "outputs": [],
   "source": [
    "r.move()"
   ]
  },
  {
   "cell_type": "code",
   "execution_count": 7,
   "id": "b4c866c5-f179-474e-a9a5-44dc4c2b8195",
   "metadata": {},
   "outputs": [
    {
     "data": {
      "text/plain": [
       "16.131088884411458"
      ]
     },
     "execution_count": 7,
     "metadata": {},
     "output_type": "execute_result"
    }
   ],
   "source": [
    "r.x"
   ]
  },
  {
   "cell_type": "code",
   "execution_count": null,
   "id": "6563ef33-adb2-453a-82b2-acd61a7b0d52",
   "metadata": {},
   "outputs": [],
   "source": []
  }
 ],
 "metadata": {
  "kernelspec": {
   "display_name": "Python 3 (ipykernel)",
   "language": "python",
   "name": "python3"
  },
  "language_info": {
   "codemirror_mode": {
    "name": "ipython",
    "version": 3
   },
   "file_extension": ".py",
   "mimetype": "text/x-python",
   "name": "python",
   "nbconvert_exporter": "python",
   "pygments_lexer": "ipython3",
   "version": "3.10.12"
  }
 },
 "nbformat": 4,
 "nbformat_minor": 5
}
