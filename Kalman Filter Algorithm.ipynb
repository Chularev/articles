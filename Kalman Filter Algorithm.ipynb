{
 "cells": [
  {
   "cell_type": "markdown",
   "id": "32fc86f3-48bc-4865-ac48-c7e64d4b0894",
   "metadata": {},
   "source": [
    "# Фильтры калмана на примерах"
   ]
  },
  {
   "cell_type": "markdown",
   "id": "6fdd1147-e35c-4a32-b3e8-9165f9529e13",
   "metadata": {},
   "source": [
    "## Одномерный случай"
   ]
  },
  {
   "cell_type": "markdown",
   "id": "539674ec-e4e2-4cf6-a62d-59d67d27b00b",
   "metadata": {},
   "source": [
    "### Постановка задачи"
   ]
  },
  {
   "cell_type": "markdown",
   "id": "546bd282-6770-49de-91ee-be7afad9cf59",
   "metadata": {},
   "source": [
    "Допустим у нас есть человек, стоящий на месте и желающий определить свое место положения. В текущий момент времени ему доступны два источника GPS и ГЛАНАС. Эти источники не точны и присылают координату с некоторой погрешностью n1 для GPS и n2 для ГЛАНАС соответственно. Из технической документации нам известно, что источник GPS в среднем имеет ошику $\\sigma_1$, а источник ГЛАНАС $\\sigma_2$. Причём эти ошибки имеют нормальное распределение с нулевым математическим ожиданием, то есть они в среднем дают правильный ответ. Задача: используя эти два наблюдения найти более точную оценку координаты X."
   ]
  },
  {
   "cell_type": "markdown",
   "id": "1fd9f6cb-d2b4-4b41-9b2d-4aa7e65e0982",
   "metadata": {},
   "source": [
    "Итак, опишем задачу более формально. Координату, полученную от GPS обозначим как $z_1$, она представляет собой истинное значение координаты $x$ плюс некоторая случайная величина (шум) $n_1$ с диспепсией $\\sigma_1^2$ и нулевым математическим ожиданием"
   ]
  },
  {
   "cell_type": "markdown",
   "id": "b707a3db-93ba-47e6-91da-49eb0d69187f",
   "metadata": {},
   "source": [
    "$z_1=x+n_1$ $n_1\\sim N(0,\\sigma_1^2)$"
   ]
  },
  {
   "cell_type": "markdown",
   "id": "059b38ee-1f6f-483c-8fae-03b1f8e745e2",
   "metadata": {},
   "source": [
    "Аналогично для второго есть источника"
   ]
  },
  {
   "cell_type": "markdown",
   "id": "0cd44841-b921-4b20-814f-3e86b4576fb8",
   "metadata": {},
   "source": [
    "$z_2=x+n_2$ $n_2\\sim N(0,\\sigma_2^2)$"
   ]
  },
  {
   "cell_type": "markdown",
   "id": "abfc157a-5655-4a42-acd4-9a0355aede78",
   "metadata": {},
   "source": [
    "![two_sourcre](images/kalman_filter_algorithm/image001.png)"
   ]
  },
  {
   "cell_type": "markdown",
   "id": "4f21a478-4b81-473f-b7d2-6449bd24ca60",
   "metadata": {},
   "source": [
    "Задача: построить алгоритм объединяющий эти два наблюдения и дающий более точную оценку координаты X"
   ]
  },
  {
   "cell_type": "markdown",
   "id": "cd731761-489a-49c7-bf95-1c696483cdbe",
   "metadata": {},
   "source": [
    "### Основная идея"
   ]
  },
  {
   "cell_type": "markdown",
   "id": "81fdf82c-9ad4-44ef-9871-ce4053b3ea69",
   "metadata": {},
   "source": [
    "Давай  порассуждаем. Мы не знаем точного значения координаты Х, он точно знаем что она, с одной стороны, лежит в диапазоне $[z_1-\\sigma_1, z_1+\\sigma_1]$, с другой стороны ее диапазон равен $[z_2-\\sigma_2,z_2+\\sigma_2]$. Причём, наиболее вероятным значением X, с точки зрения первого источника является $z_1$, а с точки зрения второго источника $z_2$. Хотелось бы построить алгоритм, принимающий два этих диапазона и учитывающий, что наиболее вероятными значениями является или $z_1$, или $z_2$. Как построить такой алгоритм ?"
   ]
  },
  {
   "cell_type": "markdown",
   "id": "4f424cc2-e138-4c17-a029-c98a5fa6d26d",
   "metadata": {},
   "source": [
    "Мы знаем что ошибка у источников GPS и ГЛАНАС имеет нормально распределение с нулевым математическим ожиданием, а наблюдения $z_1$ и $z_2$ являются, по сути, суммой этой ошибки некоторой константы Х. "
   ]
  },
  {
   "cell_type": "markdown",
   "id": "2e9ed040-4772-42bb-b07e-3f7db34c579f",
   "metadata": {},
   "source": [
    "$z_1=x+n_1$ $n_1\\sim N(0,\\sigma_1^2)$"
   ]
  },
  {
   "cell_type": "markdown",
   "id": "f372992e-8a78-42a9-be58-f3e49d24e0e2",
   "metadata": {},
   "source": [
    "$z_2=x+n_2$ $n_2\\sim N(0,\\sigma_2^2)$"
   ]
  },
  {
   "cell_type": "markdown",
   "id": "2ed71306-fe81-4972-89d8-da7d0f579a78",
   "metadata": {},
   "source": [
    "Следовательно, величины $z_1$ и $z_2$ также нормально распредельный, но их средним значение является искомое Х. Oбозначим их распределения как $Z_1$ и $Z_2$"
   ]
  },
  {
   "cell_type": "markdown",
   "id": "b7bbd486-6c0b-47c8-bb0e-c24703a0e286",
   "metadata": {},
   "source": [
    "$Z_1 \\sim N(X,\\sigma_1^2)$, $Z_2\\sim N(X,\\sigma_2^2)$"
   ]
  },
  {
   "cell_type": "markdown",
   "id": "432ff4a3-0966-41cb-bdf9-6566f40cc4b8",
   "metadata": {},
   "source": [
    "Искомое Х нам неизвестно. Однако известно, что наиболее вероятному значению в нормальном распределение соответствует среднее значение и что, с точки зрения первого источника, наиболее вероятным значением является $z_1$, a с точки зрения второго $z_2$. Следовательно, лучшим предположением для распределение $Z_1$ и $Z_2$ на текущем шаге является."
   ]
  },
  {
   "cell_type": "markdown",
   "id": "b8d1492c-c0b2-4b99-9c9f-de91bd538069",
   "metadata": {},
   "source": [
    "$Z_1 \\sim N(z_1,\\sigma_1^2)$, $Z_2\\sim N(z_2,\\sigma_2^2)$"
   ]
  },
  {
   "cell_type": "markdown",
   "id": "2d21b4c6-18da-4ae1-960d-ca21030de9bc",
   "metadata": {},
   "source": [
    "В этих распределенияx есть всё что нам нужно. С одной стороны они учитывают, что наиболее вероятным значением является $z_1$ илм  $z_2$, а с другой стороны, они учитывают диапазон возможных значение, который задаётся их дисперсиями. Итак, у нас есть две вероятности. Как найти вероятность того, что они обе истины? Для этого их нужно просто перемножить."
   ]
  },
  {
   "cell_type": "markdown",
   "id": "03ee6956-d1ed-4a4d-a96f-f1d8b8915d96",
   "metadata": {},
   "source": [
    "$$N(z_1,\\sigma_1^2) * N(z_2,\\sigma_2^2) = N(z_3,\\sigma_3^2)$$"
   ]
  },
  {
   "cell_type": "markdown",
   "id": "3b825e76-4700-4d2e-9ce6-1c374acc22ec",
   "metadata": {},
   "source": [
    "Это и есть фильтр Калмана. Нам осталось вывести рекуррентные формулы для новый дисперсии и среднего."
   ]
  },
  {
   "cell_type": "markdown",
   "id": "5781b892-fb1b-4755-93b2-c78b4c07b3ff",
   "metadata": {},
   "source": [
    "В <a href=\"https://ccrma.stanford.edu/~jos/sasp/Product_Two_Gaussian_PDFs.html\">интернете</a> можно найти формулу следующего вида"
   ]
  },
  {
   "cell_type": "markdown",
   "id": "78958a54-6411-42c8-902f-601a65b0bbd0",
   "metadata": {},
   "source": [
    "$$ z_3 = \\frac{z_1 \\sigma_2^2 + z_2 \\sigma_1^2}{\\sigma_2^2+\\sigma_1^2} $$"
   ]
  },
  {
   "cell_type": "markdown",
   "id": "dd183796-0427-4061-ac36-5b83330c8867",
   "metadata": {},
   "source": [
    "$$ \\sigma_3 = \\frac{\\sigma_1^2 \\sigma_2^2}{\\sigma_2^2+\\sigma_1^2}  $$"
   ]
  },
  {
   "cell_type": "markdown",
   "id": "c71b17a9-61ba-4a70-b9d6-13e94dcc5046",
   "metadata": {},
   "source": [
    "Приведём их рекуррентному виду"
   ]
  },
  {
   "cell_type": "markdown",
   "id": "c4988707-abbc-46fb-9c5a-30a27c4856cd",
   "metadata": {},
   "source": [
    "$$ \\sigma_3 = \\frac{\\sigma_1^2 \\sigma_2^2}{\\sigma_2^2+\\sigma_1^2}=\\frac{\\sigma_1^4+\\sigma_1^2 \\sigma_2^2-\\sigma_1^4}{\\sigma_2^2+\\sigma_1^2}=\\frac{\\sigma_1^2(\\sigma_2^2+\\sigma_1^2)-\\sigma_1^4}{\\sigma_2^2+\\sigma_1^2}=\\sigma_1^2-\\frac{\\sigma_1^4}{\\sigma_2^2+\\sigma_1^2}$$"
   ]
  },
  {
   "cell_type": "markdown",
   "id": "7fa68759-f261-4aee-a69f-6f966cb396b0",
   "metadata": {},
   "source": [
    "$$z_3 = \\frac{z_1 \\sigma_2^2 + z_2 \\sigma_1^2}{\\sigma_2^2+\\sigma_1^2}=\\frac{\\sigma_2^2}{\\sigma_2^2+\\sigma_1^2}*z_1+\\frac{\\sigma_1^2}{\\sigma_2^2+\\sigma_1^2}*z_2=\\frac{\\sigma_2^2}{\\sigma_2^2+\\sigma_1^2}*z_1+\\frac{\\sigma_1^2}{\\sigma_2^2+\\sigma_1^2}*z_1+\\frac{\\sigma_1^2}{\\sigma_2^2+\\sigma_1^2}*z_2-\\frac{\\sigma_1^2}{\\sigma_2^2+\\sigma_1^2}*z_1=  $$"
   ]
  },
  {
   "cell_type": "markdown",
   "id": "b107d4e6-deb7-4251-8f6b-c6b24ea4ae65",
   "metadata": {},
   "source": [
    "$$=\\frac{\\sigma_2^2+\\sigma_1^1}{\\sigma_2^2+\\sigma_1^2}*z_1+\\frac{\\sigma_1^2}{\\sigma_2^2+\\sigma_1^2}*(z_2-z_1)=z_1+\\frac{\\sigma_1^2}{\\sigma_2^2+\\sigma_1^2}*(z_2-z_1)$$"
   ]
  },
  {
   "cell_type": "markdown",
   "id": "4ff19b78-5e3e-4d15-91d0-caca2c297cc9",
   "metadata": {},
   "source": [
    "итоговые формулы"
   ]
  },
  {
   "cell_type": "markdown",
   "id": "84c3f8c5-d9db-4671-bb71-8577db5730f5",
   "metadata": {},
   "source": [
    "$$ \\sigma_3 =\\sigma_1^2-\\frac{\\sigma_1^4}{\\sigma_2^2+\\sigma_1^2}$$"
   ]
  },
  {
   "cell_type": "markdown",
   "id": "17b11a57-cc02-48a3-bd31-699702970fe3",
   "metadata": {},
   "source": [
    "$$z_3 = z_1+\\frac{\\sigma_1^2}{\\sigma_2^2+\\sigma_1^2}*(z_2-z_1)$$"
   ]
  },
  {
   "cell_type": "markdown",
   "id": "40990f79-037d-4c11-a95c-460573dddf90",
   "metadata": {},
   "source": [
    "Два этих уравнения имеют общий множитель. Запишем его отдельно и перепишем формулы"
   ]
  },
  {
   "cell_type": "markdown",
   "id": "d382f5f1-521a-44a1-81bb-47dd4a8d1005",
   "metadata": {},
   "source": [
    "$$K=\\frac{\\sigma_1^2}{\\sigma_2^2+\\sigma_1^2}$$"
   ]
  },
  {
   "cell_type": "markdown",
   "id": "768cbdc7-7b2a-4fe1-b884-909947092e04",
   "metadata": {},
   "source": [
    "$$ \\sigma_3 =\\sigma_1^2-K\\sigma_1^2$$"
   ]
  },
  {
   "cell_type": "markdown",
   "id": "5d09d633-7ccc-464e-85f1-52d682be8feb",
   "metadata": {},
   "source": [
    "$$z_3 = z_1+K*(z_2-z_1)$$"
   ]
  },
  {
   "cell_type": "markdown",
   "id": "dc592e1c-53bb-4a54-a9d1-70c297192220",
   "metadata": {},
   "source": [
    "Kоэффициент K называют называют коэффициентом усиления Калмана. Он варьируется от нуля до единицы и представляет собой долю новый информация,  которая возьмётся из нового наблюдения предыдущего значения."
   ]
  },
  {
   "cell_type": "markdown",
   "id": "0bd5e48d-cd51-4fbc-ac5c-9ae4c9f9246e",
   "metadata": {},
   "source": [
    "Очевидно что, источников присылающих текущую координату, может быть не два а множество. Тогда наши формулы просто примут рекурсивный вид"
   ]
  },
  {
   "cell_type": "markdown",
   "id": "ad4e3aba-e2de-49e4-9fec-f15f12c9d8a8",
   "metadata": {},
   "source": [
    "$$K_{t+1}=\\frac{\\sigma_{t-1}^2}{\\sigma_{t-1}^2+\\sigma_t^2}$$"
   ]
  },
  {
   "cell_type": "markdown",
   "id": "898d8259-df02-4909-93e8-dcd599b01ff1",
   "metadata": {},
   "source": [
    "$$ \\sigma_{t+1} =\\sigma_{t-1}^2-K_{t+1}\\sigma_{t-1}^2$$"
   ]
  },
  {
   "cell_type": "markdown",
   "id": "27761536-6e5a-4a49-b838-738d41231920",
   "metadata": {},
   "source": [
    "$$z_{t+1} = z_{t-1}+K_{t+1}*(z_t-z_{t-1})$$"
   ]
  },
  {
   "cell_type": "markdown",
   "id": "1dcdaecd-4bcc-43d1-bacd-977b85b9fcc7",
   "metadata": {},
   "source": [
    "Каждый раз, получая значение текущей координаты от нового источника, мы будем получать более точный результат."
   ]
  },
  {
   "cell_type": "markdown",
   "id": "d8f199e7-0332-4388-85e0-b3fe2dbeb859",
   "metadata": {},
   "source": [
    "## Многомерный случай"
   ]
  },
  {
   "cell_type": "code",
   "execution_count": null,
   "id": "4fbb16f3-eaff-4c94-9785-a0d1130a1ddb",
   "metadata": {},
   "outputs": [],
   "source": []
  },
  {
   "cell_type": "code",
   "execution_count": null,
   "id": "46585aec-fa67-4b7b-9904-7c5baaec704a",
   "metadata": {},
   "outputs": [],
   "source": []
  },
  {
   "cell_type": "code",
   "execution_count": null,
   "id": "c647ff5d-75c9-4e09-8476-ee53a87b9982",
   "metadata": {},
   "outputs": [],
   "source": []
  },
  {
   "cell_type": "code",
   "execution_count": 1,
   "id": "9a1b2ee9-54aa-4581-8e09-7666d615b65a",
   "metadata": {},
   "outputs": [],
   "source": [
    "import numpy as np\n",
    "import cv2\n",
    "import matplotlib.pyplot as plt\n",
    "import numpy as np\n",
    "import random"
   ]
  },
  {
   "cell_type": "markdown",
   "id": "bd2d6650-e866-4951-9c48-cb25571207fa",
   "metadata": {},
   "source": [
    "### Постановка задачи"
   ]
  },
  {
   "cell_type": "markdown",
   "id": "c5ba0033-ed57-49db-a8a9-eb12e704f17c",
   "metadata": {},
   "source": [
    "Допустим у нас есть робот с датчиком на голове. Датчик возвращает кординаты Х и У через равные промежутки времени. Показания дата не точны и имеют дисперсию ss. Робот движется с постоянной не известной нам скоростью. На его координаты также влияют внешние факторы, его колеса  могут проскальзывать или застревать в грязи. Смоделируем это как шум с дисперсией ms. Задача найти скоростью с помощью фильтра Калмана. "
   ]
  },
  {
   "cell_type": "markdown",
   "id": "bd370d08-5872-445d-8c82-5db8af679698",
   "metadata": {},
   "source": [
    "### Класс робот"
   ]
  },
  {
   "cell_type": "code",
   "execution_count": 2,
   "id": "dd984594-5c11-49b0-8454-5be828f0bbeb",
   "metadata": {},
   "outputs": [],
   "source": [
    "class Robot:\n",
    "    def __init__(self, ss, ms):\n",
    "        self.ss = ss\n",
    "        self.ms = ms\n",
    "        self.vx = random.randint(1, 10)\n",
    "        self.vy = random.randint(1, 10)\n",
    "        self.x = random.randint(0, 10)\n",
    "        self.y = random.randint(0, 10)\n",
    "\n",
    "    def sn(self):\n",
    "        return np.random.normal(0, self.ms, 1)[0]\n",
    "\n",
    "        \n",
    "    def move(self):\n",
    "        self.x = self.vx + self.x + self.sn()\n",
    "        self.y = self.vy + self.y + self.sn()\n",
    "\n",
    "    "
   ]
  },
  {
   "cell_type": "code",
   "execution_count": 3,
   "id": "f551dd48-4180-45dc-a5a3-f3c54049bf14",
   "metadata": {},
   "outputs": [],
   "source": [
    "r = Robot(0.5,0.3); r.x; "
   ]
  },
  {
   "cell_type": "code",
   "execution_count": 4,
   "id": "99a22e94-5a13-47ba-bf4d-2b5e2dfafc83",
   "metadata": {},
   "outputs": [
    {
     "data": {
      "text/plain": [
       "0"
      ]
     },
     "execution_count": 4,
     "metadata": {},
     "output_type": "execute_result"
    }
   ],
   "source": [
    "r.x"
   ]
  },
  {
   "cell_type": "code",
   "execution_count": 5,
   "id": "d97c45fe-1138-48a2-bfaa-7e1a008e8e20",
   "metadata": {},
   "outputs": [
    {
     "data": {
      "text/plain": [
       "10"
      ]
     },
     "execution_count": 5,
     "metadata": {},
     "output_type": "execute_result"
    }
   ],
   "source": [
    "r.vx"
   ]
  },
  {
   "cell_type": "code",
   "execution_count": 6,
   "id": "2cba2323-22cb-4ad9-8554-e88799f1d852",
   "metadata": {},
   "outputs": [],
   "source": [
    "r.move()"
   ]
  },
  {
   "cell_type": "code",
   "execution_count": 7,
   "id": "b4c866c5-f179-474e-a9a5-44dc4c2b8195",
   "metadata": {},
   "outputs": [
    {
     "data": {
      "text/plain": [
       "10.037815964566308"
      ]
     },
     "execution_count": 7,
     "metadata": {},
     "output_type": "execute_result"
    }
   ],
   "source": [
    "r.x"
   ]
  },
  {
   "cell_type": "code",
   "execution_count": null,
   "id": "6563ef33-adb2-453a-82b2-acd61a7b0d52",
   "metadata": {},
   "outputs": [],
   "source": []
  }
 ],
 "metadata": {
  "kernelspec": {
   "display_name": "Python 3 (ipykernel)",
   "language": "python",
   "name": "python3"
  },
  "language_info": {
   "codemirror_mode": {
    "name": "ipython",
    "version": 3
   },
   "file_extension": ".py",
   "mimetype": "text/x-python",
   "name": "python",
   "nbconvert_exporter": "python",
   "pygments_lexer": "ipython3",
   "version": "3.10.12"
  }
 },
 "nbformat": 4,
 "nbformat_minor": 5
}
