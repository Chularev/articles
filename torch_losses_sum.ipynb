{
 "cells": [
  {
   "cell_type": "markdown",
   "metadata": {},
   "source": [
    "# Сложение ошибок в сетях со множеством выходов "
   ]
  },
  {
   "cell_type": "markdown",
   "metadata": {},
   "source": [
    "## Подготовка "
   ]
  },
  {
   "cell_type": "markdown",
   "metadata": {},
   "source": [
    "### Подключение библиотек "
   ]
  },
  {
   "cell_type": "code",
   "execution_count": 1,
   "metadata": {},
   "outputs": [],
   "source": [
    "import torch\n",
    "import torch.nn as nn\n",
    "import math\n",
    "import matplotlib.pyplot as plt\n",
    "from torchviz import make_dot"
   ]
  },
  {
   "cell_type": "markdown",
   "metadata": {},
   "source": [
    "### Сеть со множеством выходов  "
   ]
  },
  {
   "cell_type": "markdown",
   "metadata": {},
   "source": [
    "Вместо нейронной сети будем использовать вычислительный граф (по сути одно и тоже)"
   ]
  },
  {
   "cell_type": "code",
   "execution_count": 2,
   "metadata": {},
   "outputs": [],
   "source": [
    "class TinyModel(torch.nn.Module):\n",
    "\n",
    "    def __init__(self):\n",
    "        super(TinyModel, self).__init__()\n",
    "    \n",
    "    def right(self,x):\n",
    "        a = torch.tanh(x)\n",
    "        b = torch.tan(a)\n",
    "        return b.sum()\n",
    "        \n",
    "    def center(self,x):\n",
    "        a = torch.tan(x)\n",
    "        b = torch.cos(a)\n",
    "        return b.mean()\n",
    "    \n",
    "    def left(self,x):\n",
    "        a = torch.cos(x)\n",
    "        b = torch.tanh(a)\n",
    "        return b.sum()\n",
    "    \n",
    "    def forward(self, x):\n",
    "        a = torch.sin(x)\n",
    "        c = 2 * a\n",
    "        loss1 = self.left(c[:8])\n",
    "        loss2 = self.center(c[8:16])\n",
    "        loss3 = self.right(c[16:24])\n",
    "        return loss1, loss2, loss3"
   ]
  },
  {
   "cell_type": "code",
   "execution_count": 3,
   "metadata": {},
   "outputs": [],
   "source": [
    "model = TinyModel()"
   ]
  },
  {
   "cell_type": "markdown",
   "metadata": {},
   "source": [
    "### Функция получения ошибок "
   ]
  },
  {
   "cell_type": "markdown",
   "metadata": {},
   "source": [
    "Функция генерирует фиксированный вход и возвращает ошибки "
   ]
  },
  {
   "cell_type": "code",
   "execution_count": 4,
   "metadata": {},
   "outputs": [],
   "source": [
    "def get_losses():\n",
    "    torch.manual_seed(89)\n",
    "    input = torch.linspace(0., 2. * math.pi, steps=24, requires_grad=True)\n",
    "    loss1, loss2, loss3 = model(input)\n",
    "    return input, loss1, loss2, loss3"
   ]
  },
  {
   "cell_type": "markdown",
   "metadata": {},
   "source": [
    "### Функции для печати вычислительного графа "
   ]
  },
  {
   "cell_type": "code",
   "execution_count": 5,
   "metadata": {},
   "outputs": [],
   "source": [
    "def print_graph(x):\n",
    "    return make_dot(x, params=dict(model.named_parameters()))"
   ]
  },
  {
   "cell_type": "code",
   "execution_count": 6,
   "metadata": {},
   "outputs": [],
   "source": [
    "def save_graph_to_png(x, title):\n",
    "    print_graph(x).render(title, format=\"png\")"
   ]
  },
  {
   "cell_type": "code",
   "execution_count": 21,
   "metadata": {},
   "outputs": [],
   "source": [
    "def print_pngs():\n",
    "    \n",
    "    fig, axes = plt.subplots(2, 3)\n",
    "\n",
    "    for row in [0, 1]:\n",
    "        for column in [0, 1, 2]:\n",
    "            ax = axes[row, column]\n",
    "            ax.set_title(f\"Image ({row}, {column})\")\n",
    "            ax.axis('off')\n",
    "            \n",
    "            image = plt.imread(\"sample.png\")\n",
    "            ax.imshow(image)\n",
    "\n",
    "    plt.show()"
   ]
  },
  {
   "cell_type": "markdown",
   "metadata": {},
   "source": [
    "## Два эквивалентных способа обратного распространения ошибки в сетях с множеством выходов "
   ]
  },
  {
   "cell_type": "markdown",
   "metadata": {},
   "source": [
    "<a href=\"https://stackoverflow.com/questions/53994625/how-can-i-process-multi-loss-in-pytorch/53997034#53997034\"> Ссылка на источник </a>"
   ]
  },
  {
   "cell_type": "markdown",
   "metadata": {},
   "source": [
    "Если сеть имеет множество выходов, то backward по сумме выходов эквивалентен backward-у по каждому из них "
   ]
  },
  {
   "cell_type": "markdown",
   "metadata": {},
   "source": [
    "### backward по сумме ошибок"
   ]
  },
  {
   "cell_type": "code",
   "execution_count": 7,
   "metadata": {},
   "outputs": [],
   "source": [
    "input, loss1, loss2, loss3 = get_losses()"
   ]
  },
  {
   "cell_type": "code",
   "execution_count": 8,
   "metadata": {},
   "outputs": [],
   "source": [
    "loss = loss1 + loss2 + loss3"
   ]
  },
  {
   "cell_type": "code",
   "execution_count": 9,
   "metadata": {},
   "outputs": [],
   "source": [
    "base_graph = loss.clone()"
   ]
  },
  {
   "cell_type": "code",
   "execution_count": 10,
   "metadata": {},
   "outputs": [],
   "source": [
    "save_graph_to_png(base_graph, 'base_graph')"
   ]
  },
  {
   "cell_type": "code",
   "execution_count": 22,
   "metadata": {},
   "outputs": [
    {
     "ename": "NameError",
     "evalue": "name 'plt' is not defined",
     "output_type": "error",
     "traceback": [
      "\u001b[0;31m---------------------------------------------------------------------------\u001b[0m",
      "\u001b[0;31mNameError\u001b[0m                                 Traceback (most recent call last)",
      "\u001b[0;32m<ipython-input-22-c419ce4b1f5e>\u001b[0m in \u001b[0;36m<module>\u001b[0;34m\u001b[0m\n\u001b[0;32m----> 1\u001b[0;31m \u001b[0mfig\u001b[0m\u001b[0;34m,\u001b[0m \u001b[0maxes\u001b[0m \u001b[0;34m=\u001b[0m \u001b[0mplt\u001b[0m\u001b[0;34m.\u001b[0m\u001b[0msubplots\u001b[0m\u001b[0;34m(\u001b[0m\u001b[0;36m1\u001b[0m\u001b[0;34m)\u001b[0m\u001b[0;34m\u001b[0m\u001b[0;34m\u001b[0m\u001b[0m\n\u001b[0m",
      "\u001b[0;31mNameError\u001b[0m: name 'plt' is not defined"
     ]
    }
   ],
   "source": [
    "fig, axes = plt.subplots(1)"
   ]
  },
  {
   "cell_type": "code",
   "execution_count": 11,
   "metadata": {},
   "outputs": [
    {
     "name": "stdout",
     "output_type": "stream",
     "text": [
      "tensor([ 0.0000, -0.5113, -1.1510, -1.3410, -0.8646, -0.3277,  0.1054,  0.5801,\n",
      "         3.9009,  0.0103,  0.4007,  0.0736, -0.0736, -0.4007, -0.0103, -3.8987,\n",
      "        -0.1770, -0.0299,  0.0950,  0.2901,  0.6806,  1.3305,  1.8787,  2.0000])\n"
     ]
    }
   ],
   "source": [
    "loss.backward()\n",
    "base_grad = input.grad.clone()\n",
    "print(base_grad)"
   ]
  },
  {
   "cell_type": "markdown",
   "metadata": {},
   "source": [
    "### backward по каждому выходу"
   ]
  },
  {
   "cell_type": "code",
   "execution_count": 12,
   "metadata": {},
   "outputs": [],
   "source": [
    "input, loss1, loss2, loss3 = get_losses()"
   ]
  },
  {
   "cell_type": "code",
   "execution_count": 13,
   "metadata": {},
   "outputs": [
    {
     "data": {
      "image/svg+xml": [
       "<?xml version=\"1.0\" encoding=\"UTF-8\" standalone=\"no\"?>\n",
       "<!DOCTYPE svg PUBLIC \"-//W3C//DTD SVG 1.1//EN\"\n",
       " \"http://www.w3.org/Graphics/SVG/1.1/DTD/svg11.dtd\">\n",
       "<!-- Generated by graphviz version 2.43.0 (0)\n",
       " -->\n",
       "<!-- Title: %3 Pages: 1 -->\n",
       "<svg width=\"109pt\" height=\"491pt\"\n",
       " viewBox=\"0.00 0.00 109.00 491.00\" xmlns=\"http://www.w3.org/2000/svg\" xmlns:xlink=\"http://www.w3.org/1999/xlink\">\n",
       "<g id=\"graph0\" class=\"graph\" transform=\"scale(1 1) rotate(0) translate(4 487)\">\n",
       "<title>%3</title>\n",
       "<polygon fill=\"white\" stroke=\"transparent\" points=\"-4,4 -4,-487 105,-487 105,4 -4,4\"/>\n",
       "<!-- 140593197309600 -->\n",
       "<g id=\"node1\" class=\"node\">\n",
       "<title>140593197309600</title>\n",
       "<polygon fill=\"#caff70\" stroke=\"black\" points=\"77.5,-31 23.5,-31 23.5,0 77.5,0 77.5,-31\"/>\n",
       "<text text-anchor=\"middle\" x=\"50.5\" y=\"-7\" font-family=\"monospace\" font-size=\"10.00\"> ()</text>\n",
       "</g>\n",
       "<!-- 140593197785392 -->\n",
       "<g id=\"node2\" class=\"node\">\n",
       "<title>140593197785392</title>\n",
       "<polygon fill=\"lightgrey\" stroke=\"black\" points=\"95,-86 6,-86 6,-67 95,-67 95,-86\"/>\n",
       "<text text-anchor=\"middle\" x=\"50.5\" y=\"-74\" font-family=\"monospace\" font-size=\"10.00\">SumBackward0</text>\n",
       "</g>\n",
       "<!-- 140593197785392&#45;&gt;140593197309600 -->\n",
       "<g id=\"edge8\" class=\"edge\">\n",
       "<title>140593197785392&#45;&gt;140593197309600</title>\n",
       "<path fill=\"none\" stroke=\"black\" d=\"M50.5,-66.79C50.5,-60.07 50.5,-50.4 50.5,-41.34\"/>\n",
       "<polygon fill=\"black\" stroke=\"black\" points=\"54,-41.19 50.5,-31.19 47,-41.19 54,-41.19\"/>\n",
       "</g>\n",
       "<!-- 140593197785680 -->\n",
       "<g id=\"node3\" class=\"node\">\n",
       "<title>140593197785680</title>\n",
       "<polygon fill=\"lightgrey\" stroke=\"black\" points=\"98,-141 3,-141 3,-122 98,-122 98,-141\"/>\n",
       "<text text-anchor=\"middle\" x=\"50.5\" y=\"-129\" font-family=\"monospace\" font-size=\"10.00\">TanhBackward0</text>\n",
       "</g>\n",
       "<!-- 140593197785680&#45;&gt;140593197785392 -->\n",
       "<g id=\"edge1\" class=\"edge\">\n",
       "<title>140593197785680&#45;&gt;140593197785392</title>\n",
       "<path fill=\"none\" stroke=\"black\" d=\"M50.5,-121.75C50.5,-114.8 50.5,-104.85 50.5,-96.13\"/>\n",
       "<polygon fill=\"black\" stroke=\"black\" points=\"54,-96.09 50.5,-86.09 47,-96.09 54,-96.09\"/>\n",
       "</g>\n",
       "<!-- 140593197786112 -->\n",
       "<g id=\"node4\" class=\"node\">\n",
       "<title>140593197786112</title>\n",
       "<polygon fill=\"lightgrey\" stroke=\"black\" points=\"95,-196 6,-196 6,-177 95,-177 95,-196\"/>\n",
       "<text text-anchor=\"middle\" x=\"50.5\" y=\"-184\" font-family=\"monospace\" font-size=\"10.00\">CosBackward0</text>\n",
       "</g>\n",
       "<!-- 140593197786112&#45;&gt;140593197785680 -->\n",
       "<g id=\"edge2\" class=\"edge\">\n",
       "<title>140593197786112&#45;&gt;140593197785680</title>\n",
       "<path fill=\"none\" stroke=\"black\" d=\"M50.5,-176.75C50.5,-169.8 50.5,-159.85 50.5,-151.13\"/>\n",
       "<polygon fill=\"black\" stroke=\"black\" points=\"54,-151.09 50.5,-141.09 47,-151.09 54,-151.09\"/>\n",
       "</g>\n",
       "<!-- 140593197786592 -->\n",
       "<g id=\"node5\" class=\"node\">\n",
       "<title>140593197786592</title>\n",
       "<polygon fill=\"lightgrey\" stroke=\"black\" points=\"101,-251 0,-251 0,-232 101,-232 101,-251\"/>\n",
       "<text text-anchor=\"middle\" x=\"50.5\" y=\"-239\" font-family=\"monospace\" font-size=\"10.00\">SliceBackward0</text>\n",
       "</g>\n",
       "<!-- 140593197786592&#45;&gt;140593197786112 -->\n",
       "<g id=\"edge3\" class=\"edge\">\n",
       "<title>140593197786592&#45;&gt;140593197786112</title>\n",
       "<path fill=\"none\" stroke=\"black\" d=\"M50.5,-231.75C50.5,-224.8 50.5,-214.85 50.5,-206.13\"/>\n",
       "<polygon fill=\"black\" stroke=\"black\" points=\"54,-206.09 50.5,-196.09 47,-206.09 54,-206.09\"/>\n",
       "</g>\n",
       "<!-- 140593197786928 -->\n",
       "<g id=\"node6\" class=\"node\">\n",
       "<title>140593197786928</title>\n",
       "<polygon fill=\"lightgrey\" stroke=\"black\" points=\"95,-306 6,-306 6,-287 95,-287 95,-306\"/>\n",
       "<text text-anchor=\"middle\" x=\"50.5\" y=\"-294\" font-family=\"monospace\" font-size=\"10.00\">MulBackward0</text>\n",
       "</g>\n",
       "<!-- 140593197786928&#45;&gt;140593197786592 -->\n",
       "<g id=\"edge4\" class=\"edge\">\n",
       "<title>140593197786928&#45;&gt;140593197786592</title>\n",
       "<path fill=\"none\" stroke=\"black\" d=\"M50.5,-286.75C50.5,-279.8 50.5,-269.85 50.5,-261.13\"/>\n",
       "<polygon fill=\"black\" stroke=\"black\" points=\"54,-261.09 50.5,-251.09 47,-261.09 54,-261.09\"/>\n",
       "</g>\n",
       "<!-- 140593197787072 -->\n",
       "<g id=\"node7\" class=\"node\">\n",
       "<title>140593197787072</title>\n",
       "<polygon fill=\"lightgrey\" stroke=\"black\" points=\"95,-361 6,-361 6,-342 95,-342 95,-361\"/>\n",
       "<text text-anchor=\"middle\" x=\"50.5\" y=\"-349\" font-family=\"monospace\" font-size=\"10.00\">SinBackward0</text>\n",
       "</g>\n",
       "<!-- 140593197787072&#45;&gt;140593197786928 -->\n",
       "<g id=\"edge5\" class=\"edge\">\n",
       "<title>140593197787072&#45;&gt;140593197786928</title>\n",
       "<path fill=\"none\" stroke=\"black\" d=\"M50.5,-341.75C50.5,-334.8 50.5,-324.85 50.5,-316.13\"/>\n",
       "<polygon fill=\"black\" stroke=\"black\" points=\"54,-316.09 50.5,-306.09 47,-316.09 54,-316.09\"/>\n",
       "</g>\n",
       "<!-- 140593197786880 -->\n",
       "<g id=\"node8\" class=\"node\">\n",
       "<title>140593197786880</title>\n",
       "<polygon fill=\"lightgrey\" stroke=\"black\" points=\"101,-416 0,-416 0,-397 101,-397 101,-416\"/>\n",
       "<text text-anchor=\"middle\" x=\"50.5\" y=\"-404\" font-family=\"monospace\" font-size=\"10.00\">AccumulateGrad</text>\n",
       "</g>\n",
       "<!-- 140593197786880&#45;&gt;140593197787072 -->\n",
       "<g id=\"edge6\" class=\"edge\">\n",
       "<title>140593197786880&#45;&gt;140593197787072</title>\n",
       "<path fill=\"none\" stroke=\"black\" d=\"M50.5,-396.75C50.5,-389.8 50.5,-379.85 50.5,-371.13\"/>\n",
       "<polygon fill=\"black\" stroke=\"black\" points=\"54,-371.09 50.5,-361.09 47,-371.09 54,-371.09\"/>\n",
       "</g>\n",
       "<!-- 140593197778800 -->\n",
       "<g id=\"node9\" class=\"node\">\n",
       "<title>140593197778800</title>\n",
       "<polygon fill=\"lightblue\" stroke=\"black\" points=\"77.5,-483 23.5,-483 23.5,-452 77.5,-452 77.5,-483\"/>\n",
       "<text text-anchor=\"middle\" x=\"50.5\" y=\"-459\" font-family=\"monospace\" font-size=\"10.00\"> (24)</text>\n",
       "</g>\n",
       "<!-- 140593197778800&#45;&gt;140593197786880 -->\n",
       "<g id=\"edge7\" class=\"edge\">\n",
       "<title>140593197778800&#45;&gt;140593197786880</title>\n",
       "<path fill=\"none\" stroke=\"black\" d=\"M50.5,-451.92C50.5,-444.22 50.5,-434.69 50.5,-426.43\"/>\n",
       "<polygon fill=\"black\" stroke=\"black\" points=\"54,-426.25 50.5,-416.25 47,-426.25 54,-426.25\"/>\n",
       "</g>\n",
       "</g>\n",
       "</svg>\n"
      ],
      "text/plain": [
       "<graphviz.graphs.Digraph at 0x7fde679ca3d0>"
      ]
     },
     "execution_count": 13,
     "metadata": {},
     "output_type": "execute_result"
    }
   ],
   "source": [
    "print_graph(loss1)"
   ]
  },
  {
   "cell_type": "code",
   "execution_count": 14,
   "metadata": {},
   "outputs": [],
   "source": [
    "loss1.backward(retain_graph=True)"
   ]
  },
  {
   "cell_type": "code",
   "execution_count": 15,
   "metadata": {},
   "outputs": [
    {
     "data": {
      "image/svg+xml": [
       "<?xml version=\"1.0\" encoding=\"UTF-8\" standalone=\"no\"?>\n",
       "<!DOCTYPE svg PUBLIC \"-//W3C//DTD SVG 1.1//EN\"\n",
       " \"http://www.w3.org/Graphics/SVG/1.1/DTD/svg11.dtd\">\n",
       "<!-- Generated by graphviz version 2.43.0 (0)\n",
       " -->\n",
       "<!-- Title: %3 Pages: 1 -->\n",
       "<svg width=\"109pt\" height=\"491pt\"\n",
       " viewBox=\"0.00 0.00 109.00 491.00\" xmlns=\"http://www.w3.org/2000/svg\" xmlns:xlink=\"http://www.w3.org/1999/xlink\">\n",
       "<g id=\"graph0\" class=\"graph\" transform=\"scale(1 1) rotate(0) translate(4 487)\">\n",
       "<title>%3</title>\n",
       "<polygon fill=\"white\" stroke=\"transparent\" points=\"-4,4 -4,-487 105,-487 105,4 -4,4\"/>\n",
       "<!-- 140593197309440 -->\n",
       "<g id=\"node1\" class=\"node\">\n",
       "<title>140593197309440</title>\n",
       "<polygon fill=\"#caff70\" stroke=\"black\" points=\"77.5,-31 23.5,-31 23.5,0 77.5,0 77.5,-31\"/>\n",
       "<text text-anchor=\"middle\" x=\"50.5\" y=\"-7\" font-family=\"monospace\" font-size=\"10.00\"> ()</text>\n",
       "</g>\n",
       "<!-- 140593197425808 -->\n",
       "<g id=\"node2\" class=\"node\">\n",
       "<title>140593197425808</title>\n",
       "<polygon fill=\"lightgrey\" stroke=\"black\" points=\"98,-86 3,-86 3,-67 98,-67 98,-86\"/>\n",
       "<text text-anchor=\"middle\" x=\"50.5\" y=\"-74\" font-family=\"monospace\" font-size=\"10.00\">MeanBackward0</text>\n",
       "</g>\n",
       "<!-- 140593197425808&#45;&gt;140593197309440 -->\n",
       "<g id=\"edge8\" class=\"edge\">\n",
       "<title>140593197425808&#45;&gt;140593197309440</title>\n",
       "<path fill=\"none\" stroke=\"black\" d=\"M50.5,-66.79C50.5,-60.07 50.5,-50.4 50.5,-41.34\"/>\n",
       "<polygon fill=\"black\" stroke=\"black\" points=\"54,-41.19 50.5,-31.19 47,-41.19 54,-41.19\"/>\n",
       "</g>\n",
       "<!-- 140593197425232 -->\n",
       "<g id=\"node3\" class=\"node\">\n",
       "<title>140593197425232</title>\n",
       "<polygon fill=\"lightgrey\" stroke=\"black\" points=\"95,-141 6,-141 6,-122 95,-122 95,-141\"/>\n",
       "<text text-anchor=\"middle\" x=\"50.5\" y=\"-129\" font-family=\"monospace\" font-size=\"10.00\">CosBackward0</text>\n",
       "</g>\n",
       "<!-- 140593197425232&#45;&gt;140593197425808 -->\n",
       "<g id=\"edge1\" class=\"edge\">\n",
       "<title>140593197425232&#45;&gt;140593197425808</title>\n",
       "<path fill=\"none\" stroke=\"black\" d=\"M50.5,-121.75C50.5,-114.8 50.5,-104.85 50.5,-96.13\"/>\n",
       "<polygon fill=\"black\" stroke=\"black\" points=\"54,-96.09 50.5,-86.09 47,-96.09 54,-96.09\"/>\n",
       "</g>\n",
       "<!-- 140593197425904 -->\n",
       "<g id=\"node4\" class=\"node\">\n",
       "<title>140593197425904</title>\n",
       "<polygon fill=\"lightgrey\" stroke=\"black\" points=\"95,-196 6,-196 6,-177 95,-177 95,-196\"/>\n",
       "<text text-anchor=\"middle\" x=\"50.5\" y=\"-184\" font-family=\"monospace\" font-size=\"10.00\">TanBackward0</text>\n",
       "</g>\n",
       "<!-- 140593197425904&#45;&gt;140593197425232 -->\n",
       "<g id=\"edge2\" class=\"edge\">\n",
       "<title>140593197425904&#45;&gt;140593197425232</title>\n",
       "<path fill=\"none\" stroke=\"black\" d=\"M50.5,-176.75C50.5,-169.8 50.5,-159.85 50.5,-151.13\"/>\n",
       "<polygon fill=\"black\" stroke=\"black\" points=\"54,-151.09 50.5,-141.09 47,-151.09 54,-151.09\"/>\n",
       "</g>\n",
       "<!-- 140593197426000 -->\n",
       "<g id=\"node5\" class=\"node\">\n",
       "<title>140593197426000</title>\n",
       "<polygon fill=\"lightgrey\" stroke=\"black\" points=\"101,-251 0,-251 0,-232 101,-232 101,-251\"/>\n",
       "<text text-anchor=\"middle\" x=\"50.5\" y=\"-239\" font-family=\"monospace\" font-size=\"10.00\">SliceBackward0</text>\n",
       "</g>\n",
       "<!-- 140593197426000&#45;&gt;140593197425904 -->\n",
       "<g id=\"edge3\" class=\"edge\">\n",
       "<title>140593197426000&#45;&gt;140593197425904</title>\n",
       "<path fill=\"none\" stroke=\"black\" d=\"M50.5,-231.75C50.5,-224.8 50.5,-214.85 50.5,-206.13\"/>\n",
       "<polygon fill=\"black\" stroke=\"black\" points=\"54,-206.09 50.5,-196.09 47,-206.09 54,-206.09\"/>\n",
       "</g>\n",
       "<!-- 140593197786928 -->\n",
       "<g id=\"node6\" class=\"node\">\n",
       "<title>140593197786928</title>\n",
       "<polygon fill=\"lightgrey\" stroke=\"black\" points=\"95,-306 6,-306 6,-287 95,-287 95,-306\"/>\n",
       "<text text-anchor=\"middle\" x=\"50.5\" y=\"-294\" font-family=\"monospace\" font-size=\"10.00\">MulBackward0</text>\n",
       "</g>\n",
       "<!-- 140593197786928&#45;&gt;140593197426000 -->\n",
       "<g id=\"edge4\" class=\"edge\">\n",
       "<title>140593197786928&#45;&gt;140593197426000</title>\n",
       "<path fill=\"none\" stroke=\"black\" d=\"M50.5,-286.75C50.5,-279.8 50.5,-269.85 50.5,-261.13\"/>\n",
       "<polygon fill=\"black\" stroke=\"black\" points=\"54,-261.09 50.5,-251.09 47,-261.09 54,-261.09\"/>\n",
       "</g>\n",
       "<!-- 140593197787072 -->\n",
       "<g id=\"node7\" class=\"node\">\n",
       "<title>140593197787072</title>\n",
       "<polygon fill=\"lightgrey\" stroke=\"black\" points=\"95,-361 6,-361 6,-342 95,-342 95,-361\"/>\n",
       "<text text-anchor=\"middle\" x=\"50.5\" y=\"-349\" font-family=\"monospace\" font-size=\"10.00\">SinBackward0</text>\n",
       "</g>\n",
       "<!-- 140593197787072&#45;&gt;140593197786928 -->\n",
       "<g id=\"edge5\" class=\"edge\">\n",
       "<title>140593197787072&#45;&gt;140593197786928</title>\n",
       "<path fill=\"none\" stroke=\"black\" d=\"M50.5,-341.75C50.5,-334.8 50.5,-324.85 50.5,-316.13\"/>\n",
       "<polygon fill=\"black\" stroke=\"black\" points=\"54,-316.09 50.5,-306.09 47,-316.09 54,-316.09\"/>\n",
       "</g>\n",
       "<!-- 140593197786880 -->\n",
       "<g id=\"node8\" class=\"node\">\n",
       "<title>140593197786880</title>\n",
       "<polygon fill=\"lightgrey\" stroke=\"black\" points=\"101,-416 0,-416 0,-397 101,-397 101,-416\"/>\n",
       "<text text-anchor=\"middle\" x=\"50.5\" y=\"-404\" font-family=\"monospace\" font-size=\"10.00\">AccumulateGrad</text>\n",
       "</g>\n",
       "<!-- 140593197786880&#45;&gt;140593197787072 -->\n",
       "<g id=\"edge6\" class=\"edge\">\n",
       "<title>140593197786880&#45;&gt;140593197787072</title>\n",
       "<path fill=\"none\" stroke=\"black\" d=\"M50.5,-396.75C50.5,-389.8 50.5,-379.85 50.5,-371.13\"/>\n",
       "<polygon fill=\"black\" stroke=\"black\" points=\"54,-371.09 50.5,-361.09 47,-371.09 54,-371.09\"/>\n",
       "</g>\n",
       "<!-- 140593197778800 -->\n",
       "<g id=\"node9\" class=\"node\">\n",
       "<title>140593197778800</title>\n",
       "<polygon fill=\"lightblue\" stroke=\"black\" points=\"77.5,-483 23.5,-483 23.5,-452 77.5,-452 77.5,-483\"/>\n",
       "<text text-anchor=\"middle\" x=\"50.5\" y=\"-459\" font-family=\"monospace\" font-size=\"10.00\"> (24)</text>\n",
       "</g>\n",
       "<!-- 140593197778800&#45;&gt;140593197786880 -->\n",
       "<g id=\"edge7\" class=\"edge\">\n",
       "<title>140593197778800&#45;&gt;140593197786880</title>\n",
       "<path fill=\"none\" stroke=\"black\" d=\"M50.5,-451.92C50.5,-444.22 50.5,-434.69 50.5,-426.43\"/>\n",
       "<polygon fill=\"black\" stroke=\"black\" points=\"54,-426.25 50.5,-416.25 47,-426.25 54,-426.25\"/>\n",
       "</g>\n",
       "</g>\n",
       "</svg>\n"
      ],
      "text/plain": [
       "<graphviz.graphs.Digraph at 0x7fde67972460>"
      ]
     },
     "execution_count": 15,
     "metadata": {},
     "output_type": "execute_result"
    }
   ],
   "source": [
    "print_graph(loss2)"
   ]
  },
  {
   "cell_type": "code",
   "execution_count": 16,
   "metadata": {},
   "outputs": [],
   "source": [
    "loss2.backward(retain_graph=True)"
   ]
  },
  {
   "cell_type": "code",
   "execution_count": 17,
   "metadata": {},
   "outputs": [
    {
     "data": {
      "image/svg+xml": [
       "<?xml version=\"1.0\" encoding=\"UTF-8\" standalone=\"no\"?>\n",
       "<!DOCTYPE svg PUBLIC \"-//W3C//DTD SVG 1.1//EN\"\n",
       " \"http://www.w3.org/Graphics/SVG/1.1/DTD/svg11.dtd\">\n",
       "<!-- Generated by graphviz version 2.43.0 (0)\n",
       " -->\n",
       "<!-- Title: %3 Pages: 1 -->\n",
       "<svg width=\"109pt\" height=\"491pt\"\n",
       " viewBox=\"0.00 0.00 109.00 491.00\" xmlns=\"http://www.w3.org/2000/svg\" xmlns:xlink=\"http://www.w3.org/1999/xlink\">\n",
       "<g id=\"graph0\" class=\"graph\" transform=\"scale(1 1) rotate(0) translate(4 487)\">\n",
       "<title>%3</title>\n",
       "<polygon fill=\"white\" stroke=\"transparent\" points=\"-4,4 -4,-487 105,-487 105,4 -4,4\"/>\n",
       "<!-- 140593197309280 -->\n",
       "<g id=\"node1\" class=\"node\">\n",
       "<title>140593197309280</title>\n",
       "<polygon fill=\"#caff70\" stroke=\"black\" points=\"77.5,-31 23.5,-31 23.5,0 77.5,0 77.5,-31\"/>\n",
       "<text text-anchor=\"middle\" x=\"50.5\" y=\"-7\" font-family=\"monospace\" font-size=\"10.00\"> ()</text>\n",
       "</g>\n",
       "<!-- 140593197428304 -->\n",
       "<g id=\"node2\" class=\"node\">\n",
       "<title>140593197428304</title>\n",
       "<polygon fill=\"lightgrey\" stroke=\"black\" points=\"95,-86 6,-86 6,-67 95,-67 95,-86\"/>\n",
       "<text text-anchor=\"middle\" x=\"50.5\" y=\"-74\" font-family=\"monospace\" font-size=\"10.00\">SumBackward0</text>\n",
       "</g>\n",
       "<!-- 140593197428304&#45;&gt;140593197309280 -->\n",
       "<g id=\"edge8\" class=\"edge\">\n",
       "<title>140593197428304&#45;&gt;140593197309280</title>\n",
       "<path fill=\"none\" stroke=\"black\" d=\"M50.5,-66.79C50.5,-60.07 50.5,-50.4 50.5,-41.34\"/>\n",
       "<polygon fill=\"black\" stroke=\"black\" points=\"54,-41.19 50.5,-31.19 47,-41.19 54,-41.19\"/>\n",
       "</g>\n",
       "<!-- 140593197428352 -->\n",
       "<g id=\"node3\" class=\"node\">\n",
       "<title>140593197428352</title>\n",
       "<polygon fill=\"lightgrey\" stroke=\"black\" points=\"95,-141 6,-141 6,-122 95,-122 95,-141\"/>\n",
       "<text text-anchor=\"middle\" x=\"50.5\" y=\"-129\" font-family=\"monospace\" font-size=\"10.00\">TanBackward0</text>\n",
       "</g>\n",
       "<!-- 140593197428352&#45;&gt;140593197428304 -->\n",
       "<g id=\"edge1\" class=\"edge\">\n",
       "<title>140593197428352&#45;&gt;140593197428304</title>\n",
       "<path fill=\"none\" stroke=\"black\" d=\"M50.5,-121.75C50.5,-114.8 50.5,-104.85 50.5,-96.13\"/>\n",
       "<polygon fill=\"black\" stroke=\"black\" points=\"54,-96.09 50.5,-86.09 47,-96.09 54,-96.09\"/>\n",
       "</g>\n",
       "<!-- 140593197426096 -->\n",
       "<g id=\"node4\" class=\"node\">\n",
       "<title>140593197426096</title>\n",
       "<polygon fill=\"lightgrey\" stroke=\"black\" points=\"98,-196 3,-196 3,-177 98,-177 98,-196\"/>\n",
       "<text text-anchor=\"middle\" x=\"50.5\" y=\"-184\" font-family=\"monospace\" font-size=\"10.00\">TanhBackward0</text>\n",
       "</g>\n",
       "<!-- 140593197426096&#45;&gt;140593197428352 -->\n",
       "<g id=\"edge2\" class=\"edge\">\n",
       "<title>140593197426096&#45;&gt;140593197428352</title>\n",
       "<path fill=\"none\" stroke=\"black\" d=\"M50.5,-176.75C50.5,-169.8 50.5,-159.85 50.5,-151.13\"/>\n",
       "<polygon fill=\"black\" stroke=\"black\" points=\"54,-151.09 50.5,-141.09 47,-151.09 54,-151.09\"/>\n",
       "</g>\n",
       "<!-- 140593197428448 -->\n",
       "<g id=\"node5\" class=\"node\">\n",
       "<title>140593197428448</title>\n",
       "<polygon fill=\"lightgrey\" stroke=\"black\" points=\"101,-251 0,-251 0,-232 101,-232 101,-251\"/>\n",
       "<text text-anchor=\"middle\" x=\"50.5\" y=\"-239\" font-family=\"monospace\" font-size=\"10.00\">SliceBackward0</text>\n",
       "</g>\n",
       "<!-- 140593197428448&#45;&gt;140593197426096 -->\n",
       "<g id=\"edge3\" class=\"edge\">\n",
       "<title>140593197428448&#45;&gt;140593197426096</title>\n",
       "<path fill=\"none\" stroke=\"black\" d=\"M50.5,-231.75C50.5,-224.8 50.5,-214.85 50.5,-206.13\"/>\n",
       "<polygon fill=\"black\" stroke=\"black\" points=\"54,-206.09 50.5,-196.09 47,-206.09 54,-206.09\"/>\n",
       "</g>\n",
       "<!-- 140593197786928 -->\n",
       "<g id=\"node6\" class=\"node\">\n",
       "<title>140593197786928</title>\n",
       "<polygon fill=\"lightgrey\" stroke=\"black\" points=\"95,-306 6,-306 6,-287 95,-287 95,-306\"/>\n",
       "<text text-anchor=\"middle\" x=\"50.5\" y=\"-294\" font-family=\"monospace\" font-size=\"10.00\">MulBackward0</text>\n",
       "</g>\n",
       "<!-- 140593197786928&#45;&gt;140593197428448 -->\n",
       "<g id=\"edge4\" class=\"edge\">\n",
       "<title>140593197786928&#45;&gt;140593197428448</title>\n",
       "<path fill=\"none\" stroke=\"black\" d=\"M50.5,-286.75C50.5,-279.8 50.5,-269.85 50.5,-261.13\"/>\n",
       "<polygon fill=\"black\" stroke=\"black\" points=\"54,-261.09 50.5,-251.09 47,-261.09 54,-261.09\"/>\n",
       "</g>\n",
       "<!-- 140593197787072 -->\n",
       "<g id=\"node7\" class=\"node\">\n",
       "<title>140593197787072</title>\n",
       "<polygon fill=\"lightgrey\" stroke=\"black\" points=\"95,-361 6,-361 6,-342 95,-342 95,-361\"/>\n",
       "<text text-anchor=\"middle\" x=\"50.5\" y=\"-349\" font-family=\"monospace\" font-size=\"10.00\">SinBackward0</text>\n",
       "</g>\n",
       "<!-- 140593197787072&#45;&gt;140593197786928 -->\n",
       "<g id=\"edge5\" class=\"edge\">\n",
       "<title>140593197787072&#45;&gt;140593197786928</title>\n",
       "<path fill=\"none\" stroke=\"black\" d=\"M50.5,-341.75C50.5,-334.8 50.5,-324.85 50.5,-316.13\"/>\n",
       "<polygon fill=\"black\" stroke=\"black\" points=\"54,-316.09 50.5,-306.09 47,-316.09 54,-316.09\"/>\n",
       "</g>\n",
       "<!-- 140593197786880 -->\n",
       "<g id=\"node8\" class=\"node\">\n",
       "<title>140593197786880</title>\n",
       "<polygon fill=\"lightgrey\" stroke=\"black\" points=\"101,-416 0,-416 0,-397 101,-397 101,-416\"/>\n",
       "<text text-anchor=\"middle\" x=\"50.5\" y=\"-404\" font-family=\"monospace\" font-size=\"10.00\">AccumulateGrad</text>\n",
       "</g>\n",
       "<!-- 140593197786880&#45;&gt;140593197787072 -->\n",
       "<g id=\"edge6\" class=\"edge\">\n",
       "<title>140593197786880&#45;&gt;140593197787072</title>\n",
       "<path fill=\"none\" stroke=\"black\" d=\"M50.5,-396.75C50.5,-389.8 50.5,-379.85 50.5,-371.13\"/>\n",
       "<polygon fill=\"black\" stroke=\"black\" points=\"54,-371.09 50.5,-361.09 47,-371.09 54,-371.09\"/>\n",
       "</g>\n",
       "<!-- 140593197778800 -->\n",
       "<g id=\"node9\" class=\"node\">\n",
       "<title>140593197778800</title>\n",
       "<polygon fill=\"lightblue\" stroke=\"black\" points=\"77.5,-483 23.5,-483 23.5,-452 77.5,-452 77.5,-483\"/>\n",
       "<text text-anchor=\"middle\" x=\"50.5\" y=\"-459\" font-family=\"monospace\" font-size=\"10.00\"> (24)</text>\n",
       "</g>\n",
       "<!-- 140593197778800&#45;&gt;140593197786880 -->\n",
       "<g id=\"edge7\" class=\"edge\">\n",
       "<title>140593197778800&#45;&gt;140593197786880</title>\n",
       "<path fill=\"none\" stroke=\"black\" d=\"M50.5,-451.92C50.5,-444.22 50.5,-434.69 50.5,-426.43\"/>\n",
       "<polygon fill=\"black\" stroke=\"black\" points=\"54,-426.25 50.5,-416.25 47,-426.25 54,-426.25\"/>\n",
       "</g>\n",
       "</g>\n",
       "</svg>\n"
      ],
      "text/plain": [
       "<graphviz.graphs.Digraph at 0x7fde67972e20>"
      ]
     },
     "execution_count": 17,
     "metadata": {},
     "output_type": "execute_result"
    }
   ],
   "source": [
    "print_graph(loss3)"
   ]
  },
  {
   "cell_type": "code",
   "execution_count": 18,
   "metadata": {},
   "outputs": [],
   "source": [
    "loss3.backward()"
   ]
  },
  {
   "cell_type": "code",
   "execution_count": 19,
   "metadata": {},
   "outputs": [
    {
     "name": "stdout",
     "output_type": "stream",
     "text": [
      "tensor([ 0.0000, -0.5113, -1.1510, -1.3410, -0.8646, -0.3277,  0.1054,  0.5801,\n",
      "         3.9009,  0.0103,  0.4007,  0.0736, -0.0736, -0.4007, -0.0103, -3.8987,\n",
      "        -0.1770, -0.0299,  0.0950,  0.2901,  0.6806,  1.3305,  1.8787,  2.0000])\n"
     ]
    }
   ],
   "source": [
    "print(input.grad)"
   ]
  },
  {
   "cell_type": "code",
   "execution_count": 20,
   "metadata": {},
   "outputs": [
    {
     "ename": "NameError",
     "evalue": "name 'grad1' is not defined",
     "output_type": "error",
     "traceback": [
      "\u001b[0;31m---------------------------------------------------------------------------\u001b[0m",
      "\u001b[0;31mNameError\u001b[0m                                 Traceback (most recent call last)",
      "\u001b[0;32m<ipython-input-20-d6e3ed7a8259>\u001b[0m in \u001b[0;36m<module>\u001b[0;34m\u001b[0m\n\u001b[0;32m----> 1\u001b[0;31m \u001b[0minput\u001b[0m\u001b[0;34m.\u001b[0m\u001b[0mgrad\u001b[0m \u001b[0;34m==\u001b[0m \u001b[0mgrad1\u001b[0m\u001b[0;34m\u001b[0m\u001b[0;34m\u001b[0m\u001b[0m\n\u001b[0m",
      "\u001b[0;31mNameError\u001b[0m: name 'grad1' is not defined"
     ]
    }
   ],
   "source": [
    "input.grad == grad1"
   ]
  },
  {
   "cell_type": "markdown",
   "metadata": {},
   "source": [
    "Обратите внимание на параметр **retain_graph=True** в функции backward, без него вычислительный граф будет уничтожен после первого вызова функции backward. См. документацию https://pytorch.org/docs/stable/generated/torch.Tensor.backward.html"
   ]
  },
  {
   "cell_type": "code",
   "execution_count": null,
   "metadata": {},
   "outputs": [],
   "source": [
    "==========================="
   ]
  },
  {
   "cell_type": "markdown",
   "metadata": {},
   "source": [
    "## In-place операции "
   ]
  },
  {
   "cell_type": "markdown",
   "metadata": {},
   "source": [
    "Обратите внимание, что операции на месте меняют вычислительный граф"
   ]
  },
  {
   "cell_type": "code",
   "execution_count": null,
   "metadata": {},
   "outputs": [],
   "source": [
    "input, loss1, loss2, loss3 = get_losses()"
   ]
  },
  {
   "cell_type": "code",
   "execution_count": null,
   "metadata": {},
   "outputs": [],
   "source": [
    "loss1 += loss1 + loss2 + loss3"
   ]
  },
  {
   "cell_type": "code",
   "execution_count": null,
   "metadata": {},
   "outputs": [],
   "source": [
    "print_graph(loss1)"
   ]
  },
  {
   "cell_type": "code",
   "execution_count": null,
   "metadata": {},
   "outputs": [],
   "source": [
    "print_graph(base_graph)"
   ]
  },
  {
   "cell_type": "code",
   "execution_count": null,
   "metadata": {},
   "outputs": [],
   "source": [
    "loss1.backward()"
   ]
  },
  {
   "cell_type": "code",
   "execution_count": null,
   "metadata": {},
   "outputs": [],
   "source": [
    "input.grad"
   ]
  },
  {
   "cell_type": "code",
   "execution_count": null,
   "metadata": {},
   "outputs": [],
   "source": [
    "grad1"
   ]
  },
  {
   "cell_type": "code",
   "execution_count": null,
   "metadata": {},
   "outputs": [],
   "source": [
    "grad1 == input.grad"
   ]
  },
  {
   "cell_type": "markdown",
   "metadata": {},
   "source": [
    "Как следствие изменился и градиент. Старайтесь избегать In-place операций в вычислительных графах "
   ]
  },
  {
   "cell_type": "markdown",
   "metadata": {},
   "source": [
    "### Маленькая тонкость "
   ]
  },
  {
   "cell_type": "markdown",
   "metadata": {},
   "source": [
    "Обратите внимание, если пересоздать одну из переменных при сложении ошибок (сохранить в нее результат), то результаты конечно же совпадут "
   ]
  },
  {
   "cell_type": "code",
   "execution_count": null,
   "metadata": {},
   "outputs": [],
   "source": [
    "input, loss1, loss2, loss3 = get_losses()"
   ]
  },
  {
   "cell_type": "code",
   "execution_count": null,
   "metadata": {},
   "outputs": [],
   "source": [
    "input_2, loss1_2, loss2_2, loss3_2 = get_losses()"
   ]
  },
  {
   "cell_type": "code",
   "execution_count": null,
   "metadata": {},
   "outputs": [],
   "source": [
    "loss = loss1 + loss2 + loss3"
   ]
  },
  {
   "cell_type": "code",
   "execution_count": null,
   "metadata": {},
   "outputs": [],
   "source": [
    "loss1_2 = loss1_2 + loss2_2 + loss3_2"
   ]
  },
  {
   "cell_type": "code",
   "execution_count": null,
   "metadata": {},
   "outputs": [],
   "source": [
    "print_graph(loss)"
   ]
  },
  {
   "cell_type": "code",
   "execution_count": null,
   "metadata": {},
   "outputs": [],
   "source": [
    "print_graph(loss1_2)"
   ]
  },
  {
   "cell_type": "code",
   "execution_count": null,
   "metadata": {},
   "outputs": [],
   "source": [
    "loss.backward()"
   ]
  },
  {
   "cell_type": "code",
   "execution_count": null,
   "metadata": {},
   "outputs": [],
   "source": [
    "loss1_2.backward()"
   ]
  },
  {
   "cell_type": "code",
   "execution_count": null,
   "metadata": {},
   "outputs": [],
   "source": [
    "input.grad == input_2.grad"
   ]
  },
  {
   "cell_type": "markdown",
   "metadata": {},
   "source": [
    "## Сложения множества loss-ов"
   ]
  },
  {
   "cell_type": "markdown",
   "metadata": {},
   "source": [
    "<a href=\"https://discuss.pytorch.org/t/how-to-combine-multiple-criterions-to-a-loss-function/348\">Ссылка на источник </a>"
   ]
  },
  {
   "cell_type": "markdown",
   "metadata": {},
   "source": [
    "Так, как функция sum из python просто применяет оператор + ко всем элементам списка (смотрите исходный код функции <a href=\"https://github.com/python/cpython/blob/135cabd328504e1648d17242b42b675cdbd0193b/Python/bltinmodule.c\"> builtin_sum_impl </a> ), мы можем сложить все loss-ы в список и использовать ее для суммирования"
   ]
  },
  {
   "cell_type": "code",
   "execution_count": null,
   "metadata": {},
   "outputs": [],
   "source": [
    "input, loss1, loss2, loss3 = get_losses()"
   ]
  },
  {
   "cell_type": "code",
   "execution_count": null,
   "metadata": {},
   "outputs": [],
   "source": [
    "loss_list = []"
   ]
  },
  {
   "cell_type": "code",
   "execution_count": null,
   "metadata": {},
   "outputs": [],
   "source": [
    "loss_list.append(loss1); loss_list.append(loss2); loss_list.append(loss3)"
   ]
  },
  {
   "cell_type": "code",
   "execution_count": null,
   "metadata": {},
   "outputs": [],
   "source": [
    "loss = sum(loss_list)"
   ]
  },
  {
   "cell_type": "code",
   "execution_count": null,
   "metadata": {},
   "outputs": [],
   "source": [
    "print_graph(base_graph)"
   ]
  },
  {
   "cell_type": "code",
   "execution_count": null,
   "metadata": {},
   "outputs": [],
   "source": [
    "print_graph(loss)"
   ]
  },
  {
   "cell_type": "code",
   "execution_count": null,
   "metadata": {},
   "outputs": [],
   "source": [
    "loss.backward()"
   ]
  },
  {
   "cell_type": "code",
   "execution_count": null,
   "metadata": {},
   "outputs": [],
   "source": [
    "input.grad == grad1"
   ]
  },
  {
   "cell_type": "markdown",
   "metadata": {},
   "source": [
    "**Внимание** "
   ]
  },
  {
   "cell_type": "markdown",
   "metadata": {},
   "source": [
    "Мы не можем складывать ошибки с помощью torch.sum. Так как он принимает на вход тензор"
   ]
  },
  {
   "cell_type": "code",
   "execution_count": null,
   "metadata": {},
   "outputs": [],
   "source": [
    "input, loss1, loss2, loss3 = get_losses()"
   ]
  },
  {
   "cell_type": "code",
   "execution_count": null,
   "metadata": {},
   "outputs": [],
   "source": [
    "loss_list.append(loss1); loss_list.append(loss2); loss_list.append(loss3)"
   ]
  },
  {
   "cell_type": "markdown",
   "metadata": {},
   "source": [
    "torch.sum(loss_list) # При выполнении выдаст ошибку "
   ]
  },
  {
   "cell_type": "markdown",
   "metadata": {},
   "source": [
    "### Суммирование ошибок при помощи словаря"
   ]
  },
  {
   "cell_type": "markdown",
   "metadata": {},
   "source": [
    "Очень часто loss-ы складывают в словарь"
   ]
  },
  {
   "cell_type": "code",
   "execution_count": null,
   "metadata": {},
   "outputs": [],
   "source": [
    "input, loss1, loss2, loss3 = get_losses()"
   ]
  },
  {
   "cell_type": "code",
   "execution_count": null,
   "metadata": {},
   "outputs": [],
   "source": [
    "losses = {'l1': loss1, 'l2': loss2, 'l3': loss3}"
   ]
  },
  {
   "cell_type": "markdown",
   "metadata": {},
   "source": [
    "Тогда доступны два варианта суммирования:"
   ]
  },
  {
   "cell_type": "markdown",
   "metadata": {},
   "source": [
    "Первый <a href=\"https://github.com/pytorch/vision/blob/59ec1dfd550652a493cb99d5704dcddae832a204/references/detection/engine.py\"> отсюда</a> (более популярный)"
   ]
  },
  {
   "cell_type": "code",
   "execution_count": null,
   "metadata": {},
   "outputs": [],
   "source": [
    "loss_sum = sum(loss for loss in losses.values())"
   ]
  },
  {
   "cell_type": "markdown",
   "metadata": {},
   "source": [
    "Второй <a href=\"https://github.com/facebookresearch/detectron2/search?q=loss_dict&type=code\">отсюда</a> "
   ]
  },
  {
   "cell_type": "code",
   "execution_count": null,
   "metadata": {},
   "outputs": [],
   "source": [
    "loss_sum2 = sum(losses.values())"
   ]
  },
  {
   "cell_type": "code",
   "execution_count": null,
   "metadata": {},
   "outputs": [],
   "source": [
    "print_graph(loss_sum)"
   ]
  },
  {
   "cell_type": "code",
   "execution_count": null,
   "metadata": {},
   "outputs": [],
   "source": [
    "print_graph(loss_sum2)"
   ]
  },
  {
   "cell_type": "markdown",
   "metadata": {},
   "source": [
    "Результаты эквивалентны"
   ]
  },
  {
   "cell_type": "markdown",
   "metadata": {},
   "source": [
    "## Сложение абсолютных значений losso-ов "
   ]
  },
  {
   "cell_type": "markdown",
   "metadata": {},
   "source": [
    "До сих пор мы складывали графы, но что если мы хотим получить значение функции потерь для отчета ? "
   ]
  },
  {
   "cell_type": "markdown",
   "metadata": {},
   "source": [
    "Для этого используется метод **detach**, который возвращает копию тензора, отвязанную от графа. См <a href=\"https://pytorch.org/docs/stable/generated/torch.Tensor.detach.html#torch.Tensor.detach\">документацию</a>"
   ]
  },
  {
   "cell_type": "code",
   "execution_count": null,
   "metadata": {},
   "outputs": [],
   "source": [
    "input, loss1, loss2, loss3 = get_losses()"
   ]
  },
  {
   "cell_type": "code",
   "execution_count": null,
   "metadata": {},
   "outputs": [],
   "source": [
    "loss_sum = loss1.detach() + loss2.detach() + loss3.detach()"
   ]
  },
  {
   "cell_type": "code",
   "execution_count": null,
   "metadata": {},
   "outputs": [],
   "source": [
    "loss_sum"
   ]
  },
  {
   "cell_type": "code",
   "execution_count": null,
   "metadata": {},
   "outputs": [],
   "source": [
    "print_graph(loss_sum)"
   ]
  },
  {
   "cell_type": "markdown",
   "metadata": {},
   "source": [
    "В случаи, когда потеря тензор состоит из одного элемента также можно использовать функцию item, которая вернет значение (просто число). См <a href=\"https://pytorch.org/docs/stable/generated/torch.Tensor.item.html#torch.Tensor.item\">документацию</a>"
   ]
  },
  {
   "cell_type": "code",
   "execution_count": null,
   "metadata": {},
   "outputs": [],
   "source": [
    "loss_sum = loss1.item() + loss2.item() + loss3.item()"
   ]
  },
  {
   "cell_type": "code",
   "execution_count": null,
   "metadata": {},
   "outputs": [],
   "source": [
    "loss_sum"
   ]
  },
  {
   "cell_type": "markdown",
   "metadata": {},
   "source": [
    "print_graph(loss_sum) # Вызовет ошибку так как это не тензор"
   ]
  }
 ],
 "metadata": {
  "kernelspec": {
   "display_name": "Python 3",
   "language": "python",
   "name": "python3"
  },
  "language_info": {
   "codemirror_mode": {
    "name": "ipython",
    "version": 3
   },
   "file_extension": ".py",
   "mimetype": "text/x-python",
   "name": "python",
   "nbconvert_exporter": "python",
   "pygments_lexer": "ipython3",
   "version": "3.8.10"
  },
  "toc": {
   "base_numbering": 1,
   "nav_menu": {},
   "number_sections": true,
   "sideBar": true,
   "skip_h1_title": true,
   "title_cell": "Содержание",
   "title_sidebar": "Contents",
   "toc_cell": true,
   "toc_position": {},
   "toc_section_display": true,
   "toc_window_display": false
  },
  "toc-autonumbering": true
 },
 "nbformat": 4,
 "nbformat_minor": 4
}
